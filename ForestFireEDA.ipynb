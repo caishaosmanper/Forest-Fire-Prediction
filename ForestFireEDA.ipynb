{
 "cells": [
  {
   "cell_type": "markdown",
   "id": "4bb65cb8",
   "metadata": {},
   "source": [
    "# <font color=\"#115081\">  Forest Fire Prediction Based on Historical Data</font>"
   ]
  },
  {
   "cell_type": "code",
   "execution_count": 1,
   "id": "ca1f157a",
   "metadata": {},
   "outputs": [],
   "source": [
    "# IMPORT LIBRARIES\n",
    "%matplotlib inline\n",
    "\n",
    "import pandas as pd\n",
    "import numpy as np\n",
    "import matplotlib\n",
    "import matplotlib.pyplot as plt\n",
    "import seaborn as sns\n",
    "import glob\n",
    "import os\n",
    "\n",
    "# To make notebook output stable across\n",
    "np.random.seed(42)\n",
    "\n",
    "# Display max columns\n",
    "pd.set_option('display.max_columns', None)"
   ]
  },
  {
   "cell_type": "code",
   "execution_count": 2,
   "id": "6a530c44",
   "metadata": {},
   "outputs": [],
   "source": [
    "# Loading fires_df dataset from the Google Drive path edit this\n",
    "fires_df = pd.read_csv(\"Data3/fires_df.csv\")"
   ]
  },
  {
   "cell_type": "code",
   "execution_count": 3,
   "id": "411baa30",
   "metadata": {},
   "outputs": [
    {
     "data": {
      "text/html": [
       "<div>\n",
       "<style scoped>\n",
       "    .dataframe tbody tr th:only-of-type {\n",
       "        vertical-align: middle;\n",
       "    }\n",
       "\n",
       "    .dataframe tbody tr th {\n",
       "        vertical-align: top;\n",
       "    }\n",
       "\n",
       "    .dataframe thead th {\n",
       "        text-align: right;\n",
       "    }\n",
       "</style>\n",
       "<table border=\"1\" class=\"dataframe\">\n",
       "  <thead>\n",
       "    <tr style=\"text-align: right;\">\n",
       "      <th></th>\n",
       "      <th>Unnamed: 0</th>\n",
       "      <th>cell</th>\n",
       "      <th>ID.x</th>\n",
       "      <th>elevation</th>\n",
       "      <th>ID.y</th>\n",
       "      <th>SR_B3</th>\n",
       "      <th>ID.x.1</th>\n",
       "      <th>NBR.x</th>\n",
       "      <th>ID.y.1</th>\n",
       "      <th>NDMI</th>\n",
       "      <th>ID.x.2</th>\n",
       "      <th>NBR.y</th>\n",
       "      <th>ID.y.2</th>\n",
       "      <th>NDVI</th>\n",
       "      <th>ID.x.3</th>\n",
       "      <th>SR_B5</th>\n",
       "      <th>ID.y.3</th>\n",
       "      <th>SR_B4</th>\n",
       "      <th>ID.x.4</th>\n",
       "      <th>SR_B7</th>\n",
       "      <th>ID.y.4</th>\n",
       "      <th>SR_B6</th>\n",
       "    </tr>\n",
       "  </thead>\n",
       "  <tbody>\n",
       "    <tr>\n",
       "      <th>0</th>\n",
       "      <td>1</td>\n",
       "      <td>2018.0</td>\n",
       "      <td>20</td>\n",
       "      <td>0</td>\n",
       "      <td>20</td>\n",
       "      <td>14378.076923</td>\n",
       "      <td>20</td>\n",
       "      <td>0.199563</td>\n",
       "      <td>20</td>\n",
       "      <td>0.142595</td>\n",
       "      <td>20</td>\n",
       "      <td>0.073842</td>\n",
       "      <td>20</td>\n",
       "      <td>0.251519</td>\n",
       "      <td>20</td>\n",
       "      <td>17243.179487</td>\n",
       "      <td>20</td>\n",
       "      <td>14132.897436</td>\n",
       "      <td>20</td>\n",
       "      <td>11505.923077</td>\n",
       "      <td>20</td>\n",
       "      <td>12400.692308</td>\n",
       "    </tr>\n",
       "    <tr>\n",
       "      <th>1</th>\n",
       "      <td>2</td>\n",
       "      <td>2019.0</td>\n",
       "      <td>20</td>\n",
       "      <td>0</td>\n",
       "      <td>20</td>\n",
       "      <td>14478.461538</td>\n",
       "      <td>20</td>\n",
       "      <td>0.202467</td>\n",
       "      <td>20</td>\n",
       "      <td>0.146416</td>\n",
       "      <td>20</td>\n",
       "      <td>0.075767</td>\n",
       "      <td>20</td>\n",
       "      <td>0.251899</td>\n",
       "      <td>20</td>\n",
       "      <td>17374.564103</td>\n",
       "      <td>20</td>\n",
       "      <td>14187.512821</td>\n",
       "      <td>20</td>\n",
       "      <td>11523.641026</td>\n",
       "      <td>20</td>\n",
       "      <td>12439.000000</td>\n",
       "    </tr>\n",
       "    <tr>\n",
       "      <th>2</th>\n",
       "      <td>3</td>\n",
       "      <td>2020.0</td>\n",
       "      <td>20</td>\n",
       "      <td>0</td>\n",
       "      <td>20</td>\n",
       "      <td>14550.717949</td>\n",
       "      <td>20</td>\n",
       "      <td>0.203500</td>\n",
       "      <td>20</td>\n",
       "      <td>0.149354</td>\n",
       "      <td>20</td>\n",
       "      <td>0.080366</td>\n",
       "      <td>20</td>\n",
       "      <td>0.200919</td>\n",
       "      <td>20</td>\n",
       "      <td>17373.333333</td>\n",
       "      <td>20</td>\n",
       "      <td>14252.923077</td>\n",
       "      <td>20</td>\n",
       "      <td>11498.025641</td>\n",
       "      <td>20</td>\n",
       "      <td>12385.923077</td>\n",
       "    </tr>\n",
       "    <tr>\n",
       "      <th>3</th>\n",
       "      <td>4</td>\n",
       "      <td>2021.0</td>\n",
       "      <td>20</td>\n",
       "      <td>0</td>\n",
       "      <td>20</td>\n",
       "      <td>14550.717949</td>\n",
       "      <td>20</td>\n",
       "      <td>0.203500</td>\n",
       "      <td>20</td>\n",
       "      <td>0.149354</td>\n",
       "      <td>20</td>\n",
       "      <td>0.080366</td>\n",
       "      <td>20</td>\n",
       "      <td>0.200919</td>\n",
       "      <td>20</td>\n",
       "      <td>17373.333333</td>\n",
       "      <td>20</td>\n",
       "      <td>14252.923077</td>\n",
       "      <td>20</td>\n",
       "      <td>11498.025641</td>\n",
       "      <td>20</td>\n",
       "      <td>12385.923077</td>\n",
       "    </tr>\n",
       "    <tr>\n",
       "      <th>4</th>\n",
       "      <td>5</td>\n",
       "      <td>2022.0</td>\n",
       "      <td>20</td>\n",
       "      <td>0</td>\n",
       "      <td>20</td>\n",
       "      <td>14636.820513</td>\n",
       "      <td>20</td>\n",
       "      <td>0.199142</td>\n",
       "      <td>20</td>\n",
       "      <td>0.143624</td>\n",
       "      <td>20</td>\n",
       "      <td>0.077757</td>\n",
       "      <td>20</td>\n",
       "      <td>0.177838</td>\n",
       "      <td>20</td>\n",
       "      <td>17403.205128</td>\n",
       "      <td>20</td>\n",
       "      <td>14342.025641</td>\n",
       "      <td>20</td>\n",
       "      <td>11622.897436</td>\n",
       "      <td>20</td>\n",
       "      <td>12524.820513</td>\n",
       "    </tr>\n",
       "  </tbody>\n",
       "</table>\n",
       "</div>"
      ],
      "text/plain": [
       "   Unnamed: 0    cell  ID.x  elevation  ID.y         SR_B3  ID.x.1     NBR.x  \\\n",
       "0           1  2018.0    20          0    20  14378.076923      20  0.199563   \n",
       "1           2  2019.0    20          0    20  14478.461538      20  0.202467   \n",
       "2           3  2020.0    20          0    20  14550.717949      20  0.203500   \n",
       "3           4  2021.0    20          0    20  14550.717949      20  0.203500   \n",
       "4           5  2022.0    20          0    20  14636.820513      20  0.199142   \n",
       "\n",
       "   ID.y.1      NDMI  ID.x.2     NBR.y  ID.y.2      NDVI  ID.x.3         SR_B5  \\\n",
       "0      20  0.142595      20  0.073842      20  0.251519      20  17243.179487   \n",
       "1      20  0.146416      20  0.075767      20  0.251899      20  17374.564103   \n",
       "2      20  0.149354      20  0.080366      20  0.200919      20  17373.333333   \n",
       "3      20  0.149354      20  0.080366      20  0.200919      20  17373.333333   \n",
       "4      20  0.143624      20  0.077757      20  0.177838      20  17403.205128   \n",
       "\n",
       "   ID.y.3         SR_B4  ID.x.4         SR_B7  ID.y.4         SR_B6  \n",
       "0      20  14132.897436      20  11505.923077      20  12400.692308  \n",
       "1      20  14187.512821      20  11523.641026      20  12439.000000  \n",
       "2      20  14252.923077      20  11498.025641      20  12385.923077  \n",
       "3      20  14252.923077      20  11498.025641      20  12385.923077  \n",
       "4      20  14342.025641      20  11622.897436      20  12524.820513  "
      ]
     },
     "execution_count": 3,
     "metadata": {},
     "output_type": "execute_result"
    }
   ],
   "source": [
    "fires_df.head()"
   ]
  },
  {
   "cell_type": "code",
   "execution_count": 4,
   "id": "62729f3c",
   "metadata": {},
   "outputs": [
    {
     "name": "stdout",
     "output_type": "stream",
     "text": [
      "<class 'pandas.core.frame.DataFrame'>\n",
      "RangeIndex: 466423 entries, 0 to 466422\n",
      "Data columns (total 22 columns):\n",
      " #   Column      Non-Null Count   Dtype  \n",
      "---  ------      --------------   -----  \n",
      " 0   Unnamed: 0  466423 non-null  int64  \n",
      " 1   cell        466423 non-null  float64\n",
      " 2   ID.x        466423 non-null  int64  \n",
      " 3   elevation   466423 non-null  int64  \n",
      " 4   ID.y        466423 non-null  int64  \n",
      " 5   SR_B3       466423 non-null  float64\n",
      " 6   ID.x.1      466423 non-null  int64  \n",
      " 7   NBR.x       466423 non-null  float64\n",
      " 8   ID.y.1      466423 non-null  int64  \n",
      " 9   NDMI        466423 non-null  float64\n",
      " 10  ID.x.2      466423 non-null  int64  \n",
      " 11  NBR.y       466423 non-null  float64\n",
      " 12  ID.y.2      466423 non-null  int64  \n",
      " 13  NDVI        466423 non-null  float64\n",
      " 14  ID.x.3      466423 non-null  int64  \n",
      " 15  SR_B5       466423 non-null  float64\n",
      " 16  ID.y.3      466423 non-null  int64  \n",
      " 17  SR_B4       466423 non-null  float64\n",
      " 18  ID.x.4      466423 non-null  int64  \n",
      " 19  SR_B7       466423 non-null  float64\n",
      " 20  ID.y.4      466423 non-null  int64  \n",
      " 21  SR_B6       466423 non-null  float64\n",
      "dtypes: float64(10), int64(12)\n",
      "memory usage: 78.3 MB\n"
     ]
    }
   ],
   "source": [
    "fires_df.info()"
   ]
  },
  {
   "cell_type": "markdown",
   "id": "1887c46f",
   "metadata": {},
   "source": [
    "No missing values in the dataset"
   ]
  },
  {
   "cell_type": "code",
   "execution_count": 5,
   "id": "ec26df57",
   "metadata": {},
   "outputs": [],
   "source": [
    "# equality_check_1 = fires_df['ID.x'].equals(fires_df['ID.x.1'])\n",
    "# equality_check_2 = fires_df['ID.x'].equals(fires_df['ID.x.2'])\n",
    "# equality_check_3 = fires_df['ID.x'].equals(fires_df['ID.x.3'])\n",
    "# equality_check_4 = fires_df['ID.x'].equals(fires_df['ID.x.4'])\n",
    "# equality_check_5 = fires_df['ID.y'].equals(fires_df['ID.y.1'])\n",
    "# equality_check_6 = fires_df['ID.y'].equals(fires_df['ID.y.2'])\n",
    "# equality_check_7 = fires_df['ID.y'].equals(fires_df['ID.y.3'])\n",
    "# equality_check_8 = fires_df['ID.y'].equals(fires_df['ID.y.4'])\n",
    "\n",
    "# print(equality_check_1, equality_check_2, equality_check_3, \n",
    "#       equality_check_4, equality_check_5, equality_check_6, equality_check_7 ,equality_check_8)"
   ]
  },
  {
   "cell_type": "code",
   "execution_count": 6,
   "id": "5b531584",
   "metadata": {
    "scrolled": true
   },
   "outputs": [
    {
     "data": {
      "text/plain": [
       "[True, True, True, True, True, True, True, True, True]"
      ]
     },
     "execution_count": 6,
     "metadata": {},
     "output_type": "execute_result"
    }
   ],
   "source": [
    "columns_x = ['ID.x', 'ID.x.1', 'ID.x.2', 'ID.x.3', 'ID.x.4']\n",
    "columns_y = ['ID.y', 'ID.y.1', 'ID.y.2', 'ID.y.3', 'ID.y.4']\n",
    "\n",
    "# Check equality for 'ID.x' columns\n",
    "equality_checks_x = [fires_df[col].equals(fires_df[columns_x[0]]) for col in columns_x[1:]]\n",
    "\n",
    "# Check equality for 'ID.y' columns\n",
    "equality_checks_y = [fires_df[col].equals(fires_df[columns_y[0]]) for col in columns_y[1:]]\n",
    "\n",
    "# Check if ID.x and ID.y values are also identical\n",
    "equality_check = fires_df['ID.x'].equals(fires_df['ID.y'])\n",
    "\n",
    "# Combine all equality checks\n",
    "all_equality_checks = (equality_checks_x + equality_checks_y)\n",
    "all_equality_checks.append(equality_check)\n",
    "\n",
    "# Print the results of equality checks\n",
    "all_equality_checks"
   ]
  },
  {
   "cell_type": "code",
   "execution_count": 7,
   "id": "4baff240",
   "metadata": {
    "scrolled": true
   },
   "outputs": [
    {
     "data": {
      "text/plain": [
       "0    466423\n",
       "Name: elevation, dtype: int64"
      ]
     },
     "execution_count": 7,
     "metadata": {},
     "output_type": "execute_result"
    }
   ],
   "source": [
    "# Checking elevation column. We see that elevation is 0 for all the rows\n",
    "fires_df.elevation.value_counts()"
   ]
  },
  {
   "cell_type": "markdown",
   "id": "1c68a83c",
   "metadata": {},
   "source": [
    "We see that the 'elevation' column is consistently 0 across all rows."
   ]
  },
  {
   "cell_type": "code",
   "execution_count": 8,
   "id": "fb437aec",
   "metadata": {
    "scrolled": true
   },
   "outputs": [
    {
     "data": {
      "image/png": "[encoded data removed]",
      "text/plain": [
       "<Figure size 640x480 with 1 Axes>"
      ]
     },
     "metadata": {},
     "output_type": "display_data"
    }
   ],
   "source": [
    "# Checking ID.x column\n",
    "fires_df['ID.x'].hist( ec='w', bins=100);"
   ]
  },
  {
   "cell_type": "code",
   "execution_count": 9,
   "id": "261bb0af",
   "metadata": {},
   "outputs": [
    {
     "data": {
      "text/plain": [
       "38     279064\n",
       "12      77210\n",
       "24      65789\n",
       "394     14318\n",
       "50       7639\n",
       "60       6575\n",
       "89       4102\n",
       "216      3717\n",
       "44       2594\n",
       "20       1668\n",
       "49       1563\n",
       "69        614\n",
       "268       517\n",
       "291       316\n",
       "115       270\n",
       "348       248\n",
       "361       143\n",
       "389        44\n",
       "306        32\n",
       "Name: ID.x, dtype: int64"
      ]
     },
     "execution_count": 9,
     "metadata": {},
     "output_type": "execute_result"
    }
   ],
   "source": [
    "fires_df['ID.x'].value_counts()"
   ]
  },
  {
   "cell_type": "markdown",
   "id": "410cdfc2",
   "metadata": {},
   "source": [
    "The 'ID.x' and 'ID.y' columns, along with their variations, represent ObjectIDs corresponding to each query layer in a geodatabase table, making them redundant. Similarly, the 'cell' and 'Unnamed: 0' columns serve as indices and are also redundant. Additionally, the 'elevation' column exclusively contains zero values. To enhance the efficiency and clarity of the code, we will remove these redundant columns from the dataset."
   ]
  },
  {
   "cell_type": "code",
   "execution_count": 10,
   "id": "473209d7",
   "metadata": {},
   "outputs": [],
   "source": [
    "fires_df.drop(['Unnamed: 0', 'cell', 'elevation', 'ID.x','ID.y', 'ID.x.1', 'ID.x.2', 'ID.x.3', \n",
    "                          'ID.x.4', 'ID.y.1', 'ID.y.2', 'ID.y.3','ID.y.4'], axis=1,inplace = True)"
   ]
  },
  {
   "cell_type": "code",
   "execution_count": 11,
   "id": "368f5c99",
   "metadata": {},
   "outputs": [
    {
     "data": {
      "text/html": [
       "<div>\n",
       "<style scoped>\n",
       "    .dataframe tbody tr th:only-of-type {\n",
       "        vertical-align: middle;\n",
       "    }\n",
       "\n",
       "    .dataframe tbody tr th {\n",
       "        vertical-align: top;\n",
       "    }\n",
       "\n",
       "    .dataframe thead th {\n",
       "        text-align: right;\n",
       "    }\n",
       "</style>\n",
       "<table border=\"1\" class=\"dataframe\">\n",
       "  <thead>\n",
       "    <tr style=\"text-align: right;\">\n",
       "      <th></th>\n",
       "      <th>NBR.x</th>\n",
       "      <th>NBR.y</th>\n",
       "      <th>NDMI</th>\n",
       "      <th>NDVI</th>\n",
       "      <th>SR_B3</th>\n",
       "      <th>SR_B4</th>\n",
       "      <th>SR_B5</th>\n",
       "      <th>SR_B6</th>\n",
       "      <th>SR_B7</th>\n",
       "    </tr>\n",
       "  </thead>\n",
       "  <tbody>\n",
       "    <tr>\n",
       "      <th>0</th>\n",
       "      <td>0.199563</td>\n",
       "      <td>0.073842</td>\n",
       "      <td>0.142595</td>\n",
       "      <td>0.251519</td>\n",
       "      <td>14378.076923</td>\n",
       "      <td>14132.897436</td>\n",
       "      <td>17243.179487</td>\n",
       "      <td>12400.692308</td>\n",
       "      <td>11505.923077</td>\n",
       "    </tr>\n",
       "    <tr>\n",
       "      <th>1</th>\n",
       "      <td>0.202467</td>\n",
       "      <td>0.075767</td>\n",
       "      <td>0.146416</td>\n",
       "      <td>0.251899</td>\n",
       "      <td>14478.461538</td>\n",
       "      <td>14187.512821</td>\n",
       "      <td>17374.564103</td>\n",
       "      <td>12439.000000</td>\n",
       "      <td>11523.641026</td>\n",
       "    </tr>\n",
       "    <tr>\n",
       "      <th>2</th>\n",
       "      <td>0.203500</td>\n",
       "      <td>0.080366</td>\n",
       "      <td>0.149354</td>\n",
       "      <td>0.200919</td>\n",
       "      <td>14550.717949</td>\n",
       "      <td>14252.923077</td>\n",
       "      <td>17373.333333</td>\n",
       "      <td>12385.923077</td>\n",
       "      <td>11498.025641</td>\n",
       "    </tr>\n",
       "    <tr>\n",
       "      <th>3</th>\n",
       "      <td>0.203500</td>\n",
       "      <td>0.080366</td>\n",
       "      <td>0.149354</td>\n",
       "      <td>0.200919</td>\n",
       "      <td>14550.717949</td>\n",
       "      <td>14252.923077</td>\n",
       "      <td>17373.333333</td>\n",
       "      <td>12385.923077</td>\n",
       "      <td>11498.025641</td>\n",
       "    </tr>\n",
       "    <tr>\n",
       "      <th>4</th>\n",
       "      <td>0.199142</td>\n",
       "      <td>0.077757</td>\n",
       "      <td>0.143624</td>\n",
       "      <td>0.177838</td>\n",
       "      <td>14636.820513</td>\n",
       "      <td>14342.025641</td>\n",
       "      <td>17403.205128</td>\n",
       "      <td>12524.820513</td>\n",
       "      <td>11622.897436</td>\n",
       "    </tr>\n",
       "  </tbody>\n",
       "</table>\n",
       "</div>"
      ],
      "text/plain": [
       "      NBR.x     NBR.y      NDMI      NDVI         SR_B3         SR_B4  \\\n",
       "0  0.199563  0.073842  0.142595  0.251519  14378.076923  14132.897436   \n",
       "1  0.202467  0.075767  0.146416  0.251899  14478.461538  14187.512821   \n",
       "2  0.203500  0.080366  0.149354  0.200919  14550.717949  14252.923077   \n",
       "3  0.203500  0.080366  0.149354  0.200919  14550.717949  14252.923077   \n",
       "4  0.199142  0.077757  0.143624  0.177838  14636.820513  14342.025641   \n",
       "\n",
       "          SR_B5         SR_B6         SR_B7  \n",
       "0  17243.179487  12400.692308  11505.923077  \n",
       "1  17374.564103  12439.000000  11523.641026  \n",
       "2  17373.333333  12385.923077  11498.025641  \n",
       "3  17373.333333  12385.923077  11498.025641  \n",
       "4  17403.205128  12524.820513  11622.897436  "
      ]
     },
     "execution_count": 11,
     "metadata": {},
     "output_type": "execute_result"
    }
   ],
   "source": [
    "fires_df.sort_index(axis=1, inplace=True)\n",
    "fires_df.head()"
   ]
  },
  {
   "cell_type": "code",
   "execution_count": 12,
   "id": "6d79b988",
   "metadata": {
    "scrolled": false
   },
   "outputs": [
    {
     "data": {
      "image/png": "[encoded data removed]",
      "text/plain": [
       "<Figure size 1500x1000 with 9 Axes>"
      ]
     },
     "metadata": {},
     "output_type": "display_data"
    }
   ],
   "source": [
    "fires_df.hist(bins=50, figsize=(15,10), ec='k', alpha=0.5 );"
   ]
  },
  {
   "cell_type": "code",
   "execution_count": 13,
   "id": "56bcaf23",
   "metadata": {
    "scrolled": true
   },
   "outputs": [
    {
     "data": {
      "text/html": [
       "<div>\n",
       "<style scoped>\n",
       "    .dataframe tbody tr th:only-of-type {\n",
       "        vertical-align: middle;\n",
       "    }\n",
       "\n",
       "    .dataframe tbody tr th {\n",
       "        vertical-align: top;\n",
       "    }\n",
       "\n",
       "    .dataframe thead th {\n",
       "        text-align: right;\n",
       "    }\n",
       "</style>\n",
       "<table border=\"1\" class=\"dataframe\">\n",
       "  <thead>\n",
       "    <tr style=\"text-align: right;\">\n",
       "      <th></th>\n",
       "      <th>NBR.x</th>\n",
       "      <th>NBR.y</th>\n",
       "      <th>NDMI</th>\n",
       "      <th>NDVI</th>\n",
       "      <th>SR_B3</th>\n",
       "      <th>SR_B4</th>\n",
       "      <th>SR_B5</th>\n",
       "      <th>SR_B6</th>\n",
       "      <th>SR_B7</th>\n",
       "    </tr>\n",
       "  </thead>\n",
       "  <tbody>\n",
       "    <tr>\n",
       "      <th>count</th>\n",
       "      <td>466423.000000</td>\n",
       "      <td>466423.000000</td>\n",
       "      <td>466423.000000</td>\n",
       "      <td>466423.000000</td>\n",
       "      <td>466423.000000</td>\n",
       "      <td>466423.000000</td>\n",
       "      <td>466423.000000</td>\n",
       "      <td>466423.000000</td>\n",
       "      <td>466423.000000</td>\n",
       "    </tr>\n",
       "    <tr>\n",
       "      <th>mean</th>\n",
       "      <td>0.263016</td>\n",
       "      <td>0.173502</td>\n",
       "      <td>0.199154</td>\n",
       "      <td>0.111741</td>\n",
       "      <td>21152.645166</td>\n",
       "      <td>21029.330142</td>\n",
       "      <td>23631.199887</td>\n",
       "      <td>14828.377618</td>\n",
       "      <td>13750.322108</td>\n",
       "    </tr>\n",
       "    <tr>\n",
       "      <th>std</th>\n",
       "      <td>0.027149</td>\n",
       "      <td>0.034950</td>\n",
       "      <td>0.031238</td>\n",
       "      <td>0.079357</td>\n",
       "      <td>2644.874453</td>\n",
       "      <td>2690.910178</td>\n",
       "      <td>2349.728416</td>\n",
       "      <td>1249.721977</td>\n",
       "      <td>990.328783</td>\n",
       "    </tr>\n",
       "    <tr>\n",
       "      <th>min</th>\n",
       "      <td>0.109267</td>\n",
       "      <td>0.032631</td>\n",
       "      <td>0.036760</td>\n",
       "      <td>-0.131098</td>\n",
       "      <td>14075.282051</td>\n",
       "      <td>13895.230769</td>\n",
       "      <td>16486.435897</td>\n",
       "      <td>11272.307692</td>\n",
       "      <td>10825.846154</td>\n",
       "    </tr>\n",
       "    <tr>\n",
       "      <th>25%</th>\n",
       "      <td>0.248485</td>\n",
       "      <td>0.149474</td>\n",
       "      <td>0.181937</td>\n",
       "      <td>0.049010</td>\n",
       "      <td>19478.168691</td>\n",
       "      <td>19296.294872</td>\n",
       "      <td>22157.105263</td>\n",
       "      <td>13926.263158</td>\n",
       "      <td>13033.789474</td>\n",
       "    </tr>\n",
       "    <tr>\n",
       "      <th>50%</th>\n",
       "      <td>0.264046</td>\n",
       "      <td>0.174773</td>\n",
       "      <td>0.198829</td>\n",
       "      <td>0.103434</td>\n",
       "      <td>20964.368421</td>\n",
       "      <td>20837.153846</td>\n",
       "      <td>23526.684211</td>\n",
       "      <td>14766.105263</td>\n",
       "      <td>13706.179487</td>\n",
       "    </tr>\n",
       "    <tr>\n",
       "      <th>75%</th>\n",
       "      <td>0.279272</td>\n",
       "      <td>0.194287</td>\n",
       "      <td>0.216915</td>\n",
       "      <td>0.165152</td>\n",
       "      <td>22722.105263</td>\n",
       "      <td>22626.472222</td>\n",
       "      <td>25094.973684</td>\n",
       "      <td>15683.631579</td>\n",
       "      <td>14432.358974</td>\n",
       "    </tr>\n",
       "    <tr>\n",
       "      <th>max</th>\n",
       "      <td>0.379650</td>\n",
       "      <td>0.347341</td>\n",
       "      <td>0.330561</td>\n",
       "      <td>0.433172</td>\n",
       "      <td>34065.384615</td>\n",
       "      <td>34143.410256</td>\n",
       "      <td>36011.794872</td>\n",
       "      <td>21196.826087</td>\n",
       "      <td>19416.750000</td>\n",
       "    </tr>\n",
       "  </tbody>\n",
       "</table>\n",
       "</div>"
      ],
      "text/plain": [
       "               NBR.x          NBR.y           NDMI           NDVI  \\\n",
       "count  466423.000000  466423.000000  466423.000000  466423.000000   \n",
       "mean        0.263016       0.173502       0.199154       0.111741   \n",
       "std         0.027149       0.034950       0.031238       0.079357   \n",
       "min         0.109267       0.032631       0.036760      -0.131098   \n",
       "25%         0.248485       0.149474       0.181937       0.049010   \n",
       "50%         0.264046       0.174773       0.198829       0.103434   \n",
       "75%         0.279272       0.194287       0.216915       0.165152   \n",
       "max         0.379650       0.347341       0.330561       0.433172   \n",
       "\n",
       "               SR_B3          SR_B4          SR_B5          SR_B6  \\\n",
       "count  466423.000000  466423.000000  466423.000000  466423.000000   \n",
       "mean    21152.645166   21029.330142   23631.199887   14828.377618   \n",
       "std      2644.874453    2690.910178    2349.728416    1249.721977   \n",
       "min     14075.282051   13895.230769   16486.435897   11272.307692   \n",
       "25%     19478.168691   19296.294872   22157.105263   13926.263158   \n",
       "50%     20964.368421   20837.153846   23526.684211   14766.105263   \n",
       "75%     22722.105263   22626.472222   25094.973684   15683.631579   \n",
       "max     34065.384615   34143.410256   36011.794872   21196.826087   \n",
       "\n",
       "               SR_B7  \n",
       "count  466423.000000  \n",
       "mean    13750.322108  \n",
       "std       990.328783  \n",
       "min     10825.846154  \n",
       "25%     13033.789474  \n",
       "50%     13706.179487  \n",
       "75%     14432.358974  \n",
       "max     19416.750000  "
      ]
     },
     "execution_count": 13,
     "metadata": {},
     "output_type": "execute_result"
    }
   ],
   "source": [
    "fires_df.describe()"
   ]
  },
  {
   "cell_type": "code",
   "execution_count": 14,
   "id": "e27aee7f",
   "metadata": {
    "scrolled": true
   },
   "outputs": [
    {
     "data": {
      "text/plain": [
       "NBR.x   -0.244392\n",
       "NBR.y    0.230645\n",
       "NDMI    -0.217961\n",
       "NDVI     0.498821\n",
       "SR_B3    0.412932\n",
       "SR_B4    0.414234\n",
       "SR_B5    0.221286\n",
       "SR_B6    0.256180\n",
       "SR_B7    0.240486\n",
       "dtype: float64"
      ]
     },
     "execution_count": 14,
     "metadata": {},
     "output_type": "execute_result"
    }
   ],
   "source": [
    "# Calculate skewness for each column\n",
    "\n",
    "fires_df.skew(axis = 0, skipna = True) "
   ]
  },
  {
   "cell_type": "markdown",
   "id": "85e96b8d",
   "metadata": {},
   "source": [
    "Interpretation:\n",
    "\n",
    "Skewness values between -0.5 and 0.5 are considered relatively mild. While some variables show slight to moderate skewness, it's important to note that the magnitudes of skewness are not large, and the distributions can still be considered approximately symmetrical.\n"
   ]
  },
  {
   "cell_type": "code",
   "execution_count": 15,
   "id": "271cd4ac",
   "metadata": {},
   "outputs": [],
   "source": [
    "# Adding the fire column\n",
    "\n",
    "fires_df['Fire_Observed'] = 1"
   ]
  },
  {
   "cell_type": "code",
   "execution_count": 16,
   "id": "8f838cfa",
   "metadata": {
    "scrolled": true
   },
   "outputs": [
    {
     "data": {
      "text/html": [
       "<div>\n",
       "<style scoped>\n",
       "    .dataframe tbody tr th:only-of-type {\n",
       "        vertical-align: middle;\n",
       "    }\n",
       "\n",
       "    .dataframe tbody tr th {\n",
       "        vertical-align: top;\n",
       "    }\n",
       "\n",
       "    .dataframe thead th {\n",
       "        text-align: right;\n",
       "    }\n",
       "</style>\n",
       "<table border=\"1\" class=\"dataframe\">\n",
       "  <thead>\n",
       "    <tr style=\"text-align: right;\">\n",
       "      <th></th>\n",
       "      <th>NBR.x</th>\n",
       "      <th>NBR.y</th>\n",
       "      <th>NDMI</th>\n",
       "      <th>NDVI</th>\n",
       "      <th>SR_B3</th>\n",
       "      <th>SR_B4</th>\n",
       "      <th>SR_B5</th>\n",
       "      <th>SR_B6</th>\n",
       "      <th>SR_B7</th>\n",
       "      <th>Fire_Observed</th>\n",
       "    </tr>\n",
       "  </thead>\n",
       "  <tbody>\n",
       "    <tr>\n",
       "      <th>0</th>\n",
       "      <td>0.199563</td>\n",
       "      <td>0.073842</td>\n",
       "      <td>0.142595</td>\n",
       "      <td>0.251519</td>\n",
       "      <td>14378.076923</td>\n",
       "      <td>14132.897436</td>\n",
       "      <td>17243.179487</td>\n",
       "      <td>12400.692308</td>\n",
       "      <td>11505.923077</td>\n",
       "      <td>1</td>\n",
       "    </tr>\n",
       "    <tr>\n",
       "      <th>1</th>\n",
       "      <td>0.202467</td>\n",
       "      <td>0.075767</td>\n",
       "      <td>0.146416</td>\n",
       "      <td>0.251899</td>\n",
       "      <td>14478.461538</td>\n",
       "      <td>14187.512821</td>\n",
       "      <td>17374.564103</td>\n",
       "      <td>12439.000000</td>\n",
       "      <td>11523.641026</td>\n",
       "      <td>1</td>\n",
       "    </tr>\n",
       "    <tr>\n",
       "      <th>2</th>\n",
       "      <td>0.203500</td>\n",
       "      <td>0.080366</td>\n",
       "      <td>0.149354</td>\n",
       "      <td>0.200919</td>\n",
       "      <td>14550.717949</td>\n",
       "      <td>14252.923077</td>\n",
       "      <td>17373.333333</td>\n",
       "      <td>12385.923077</td>\n",
       "      <td>11498.025641</td>\n",
       "      <td>1</td>\n",
       "    </tr>\n",
       "    <tr>\n",
       "      <th>3</th>\n",
       "      <td>0.203500</td>\n",
       "      <td>0.080366</td>\n",
       "      <td>0.149354</td>\n",
       "      <td>0.200919</td>\n",
       "      <td>14550.717949</td>\n",
       "      <td>14252.923077</td>\n",
       "      <td>17373.333333</td>\n",
       "      <td>12385.923077</td>\n",
       "      <td>11498.025641</td>\n",
       "      <td>1</td>\n",
       "    </tr>\n",
       "    <tr>\n",
       "      <th>4</th>\n",
       "      <td>0.199142</td>\n",
       "      <td>0.077757</td>\n",
       "      <td>0.143624</td>\n",
       "      <td>0.177838</td>\n",
       "      <td>14636.820513</td>\n",
       "      <td>14342.025641</td>\n",
       "      <td>17403.205128</td>\n",
       "      <td>12524.820513</td>\n",
       "      <td>11622.897436</td>\n",
       "      <td>1</td>\n",
       "    </tr>\n",
       "  </tbody>\n",
       "</table>\n",
       "</div>"
      ],
      "text/plain": [
       "      NBR.x     NBR.y      NDMI      NDVI         SR_B3         SR_B4  \\\n",
       "0  0.199563  0.073842  0.142595  0.251519  14378.076923  14132.897436   \n",
       "1  0.202467  0.075767  0.146416  0.251899  14478.461538  14187.512821   \n",
       "2  0.203500  0.080366  0.149354  0.200919  14550.717949  14252.923077   \n",
       "3  0.203500  0.080366  0.149354  0.200919  14550.717949  14252.923077   \n",
       "4  0.199142  0.077757  0.143624  0.177838  14636.820513  14342.025641   \n",
       "\n",
       "          SR_B5         SR_B6         SR_B7  Fire_Observed  \n",
       "0  17243.179487  12400.692308  11505.923077              1  \n",
       "1  17374.564103  12439.000000  11523.641026              1  \n",
       "2  17373.333333  12385.923077  11498.025641              1  \n",
       "3  17373.333333  12385.923077  11498.025641              1  \n",
       "4  17403.205128  12524.820513  11622.897436              1  "
      ]
     },
     "execution_count": 16,
     "metadata": {},
     "output_type": "execute_result"
    }
   ],
   "source": [
    "fires_df.head()"
   ]
  },
  {
   "cell_type": "code",
   "execution_count": 17,
   "id": "42d4d035",
   "metadata": {
    "scrolled": false
   },
   "outputs": [],
   "source": [
    "no_fires_df = pd.read_csv(\"Data3/no_fires_df.csv\")"
   ]
  },
  {
   "cell_type": "code",
   "execution_count": 18,
   "id": "a6fb0413",
   "metadata": {},
   "outputs": [
    {
     "data": {
      "text/html": [
       "<div>\n",
       "<style scoped>\n",
       "    .dataframe tbody tr th:only-of-type {\n",
       "        vertical-align: middle;\n",
       "    }\n",
       "\n",
       "    .dataframe tbody tr th {\n",
       "        vertical-align: top;\n",
       "    }\n",
       "\n",
       "    .dataframe thead th {\n",
       "        text-align: right;\n",
       "    }\n",
       "</style>\n",
       "<table border=\"1\" class=\"dataframe\">\n",
       "  <thead>\n",
       "    <tr style=\"text-align: right;\">\n",
       "      <th></th>\n",
       "      <th>Unnamed: 0</th>\n",
       "      <th>cell</th>\n",
       "      <th>ID.x</th>\n",
       "      <th>elevation</th>\n",
       "      <th>ID.y</th>\n",
       "      <th>SR_B3</th>\n",
       "      <th>ID.x.1</th>\n",
       "      <th>NBR.x</th>\n",
       "      <th>ID.y.1</th>\n",
       "      <th>NDMI</th>\n",
       "      <th>ID.x.2</th>\n",
       "      <th>NBR.y</th>\n",
       "      <th>ID.y.2</th>\n",
       "      <th>NDVI</th>\n",
       "      <th>ID.x.3</th>\n",
       "      <th>SR_B5</th>\n",
       "      <th>ID.y.3</th>\n",
       "      <th>SR_B4</th>\n",
       "      <th>ID.x.4</th>\n",
       "      <th>SR_B7</th>\n",
       "      <th>ID.y.4</th>\n",
       "      <th>SR_B6</th>\n",
       "    </tr>\n",
       "  </thead>\n",
       "  <tbody>\n",
       "    <tr>\n",
       "      <th>0</th>\n",
       "      <td>1</td>\n",
       "      <td>1.0</td>\n",
       "      <td>1</td>\n",
       "      <td>0</td>\n",
       "      <td>1</td>\n",
       "      <td>23181.166667</td>\n",
       "      <td>1</td>\n",
       "      <td>0.343966</td>\n",
       "      <td>1</td>\n",
       "      <td>0.306444</td>\n",
       "      <td>1</td>\n",
       "      <td>0.275582</td>\n",
       "      <td>1</td>\n",
       "      <td>0.133473</td>\n",
       "      <td>1</td>\n",
       "      <td>25488.333333</td>\n",
       "      <td>1</td>\n",
       "      <td>22521.500000</td>\n",
       "      <td>1</td>\n",
       "      <td>12441.700000</td>\n",
       "      <td>1</td>\n",
       "      <td>13164.866667</td>\n",
       "    </tr>\n",
       "    <tr>\n",
       "      <th>1</th>\n",
       "      <td>2</td>\n",
       "      <td>2.0</td>\n",
       "      <td>1</td>\n",
       "      <td>0</td>\n",
       "      <td>1</td>\n",
       "      <td>23181.166667</td>\n",
       "      <td>1</td>\n",
       "      <td>0.343966</td>\n",
       "      <td>1</td>\n",
       "      <td>0.306444</td>\n",
       "      <td>1</td>\n",
       "      <td>0.275582</td>\n",
       "      <td>1</td>\n",
       "      <td>0.133473</td>\n",
       "      <td>1</td>\n",
       "      <td>25488.333333</td>\n",
       "      <td>1</td>\n",
       "      <td>22521.500000</td>\n",
       "      <td>1</td>\n",
       "      <td>12441.700000</td>\n",
       "      <td>1</td>\n",
       "      <td>13164.866667</td>\n",
       "    </tr>\n",
       "    <tr>\n",
       "      <th>2</th>\n",
       "      <td>3</td>\n",
       "      <td>3.0</td>\n",
       "      <td>1</td>\n",
       "      <td>0</td>\n",
       "      <td>1</td>\n",
       "      <td>22422.000000</td>\n",
       "      <td>1</td>\n",
       "      <td>0.330201</td>\n",
       "      <td>1</td>\n",
       "      <td>0.293682</td>\n",
       "      <td>1</td>\n",
       "      <td>0.265092</td>\n",
       "      <td>1</td>\n",
       "      <td>0.118886</td>\n",
       "      <td>1</td>\n",
       "      <td>24616.741935</td>\n",
       "      <td>1</td>\n",
       "      <td>21856.322581</td>\n",
       "      <td>1</td>\n",
       "      <td>12395.322581</td>\n",
       "      <td>1</td>\n",
       "      <td>13025.225806</td>\n",
       "    </tr>\n",
       "    <tr>\n",
       "      <th>3</th>\n",
       "      <td>4</td>\n",
       "      <td>4.0</td>\n",
       "      <td>1</td>\n",
       "      <td>0</td>\n",
       "      <td>1</td>\n",
       "      <td>22497.419355</td>\n",
       "      <td>1</td>\n",
       "      <td>0.316396</td>\n",
       "      <td>1</td>\n",
       "      <td>0.275186</td>\n",
       "      <td>1</td>\n",
       "      <td>0.267656</td>\n",
       "      <td>1</td>\n",
       "      <td>0.108272</td>\n",
       "      <td>1</td>\n",
       "      <td>23915.032258</td>\n",
       "      <td>1</td>\n",
       "      <td>21879.903226</td>\n",
       "      <td>1</td>\n",
       "      <td>12419.064516</td>\n",
       "      <td>1</td>\n",
       "      <td>12997.096774</td>\n",
       "    </tr>\n",
       "    <tr>\n",
       "      <th>4</th>\n",
       "      <td>5</td>\n",
       "      <td>5.0</td>\n",
       "      <td>1</td>\n",
       "      <td>0</td>\n",
       "      <td>1</td>\n",
       "      <td>22497.419355</td>\n",
       "      <td>1</td>\n",
       "      <td>0.316396</td>\n",
       "      <td>1</td>\n",
       "      <td>0.275186</td>\n",
       "      <td>1</td>\n",
       "      <td>0.267656</td>\n",
       "      <td>1</td>\n",
       "      <td>0.108272</td>\n",
       "      <td>1</td>\n",
       "      <td>23915.032258</td>\n",
       "      <td>1</td>\n",
       "      <td>21879.903226</td>\n",
       "      <td>1</td>\n",
       "      <td>12419.064516</td>\n",
       "      <td>1</td>\n",
       "      <td>12997.096774</td>\n",
       "    </tr>\n",
       "    <tr>\n",
       "      <th>...</th>\n",
       "      <td>...</td>\n",
       "      <td>...</td>\n",
       "      <td>...</td>\n",
       "      <td>...</td>\n",
       "      <td>...</td>\n",
       "      <td>...</td>\n",
       "      <td>...</td>\n",
       "      <td>...</td>\n",
       "      <td>...</td>\n",
       "      <td>...</td>\n",
       "      <td>...</td>\n",
       "      <td>...</td>\n",
       "      <td>...</td>\n",
       "      <td>...</td>\n",
       "      <td>...</td>\n",
       "      <td>...</td>\n",
       "      <td>...</td>\n",
       "      <td>...</td>\n",
       "      <td>...</td>\n",
       "      <td>...</td>\n",
       "      <td>...</td>\n",
       "      <td>...</td>\n",
       "    </tr>\n",
       "    <tr>\n",
       "      <th>19512348</th>\n",
       "      <td>19512349</td>\n",
       "      <td>21754630.0</td>\n",
       "      <td>1</td>\n",
       "      <td>0</td>\n",
       "      <td>1</td>\n",
       "      <td>20148.102564</td>\n",
       "      <td>1</td>\n",
       "      <td>0.290970</td>\n",
       "      <td>1</td>\n",
       "      <td>0.233264</td>\n",
       "      <td>1</td>\n",
       "      <td>0.180679</td>\n",
       "      <td>1</td>\n",
       "      <td>0.039978</td>\n",
       "      <td>1</td>\n",
       "      <td>23335.538462</td>\n",
       "      <td>1</td>\n",
       "      <td>20174.282051</td>\n",
       "      <td>1</td>\n",
       "      <td>12816.410256</td>\n",
       "      <td>1</td>\n",
       "      <td>13981.589744</td>\n",
       "    </tr>\n",
       "    <tr>\n",
       "      <th>19512349</th>\n",
       "      <td>19512350</td>\n",
       "      <td>21754631.0</td>\n",
       "      <td>1</td>\n",
       "      <td>0</td>\n",
       "      <td>1</td>\n",
       "      <td>23892.256410</td>\n",
       "      <td>1</td>\n",
       "      <td>0.293734</td>\n",
       "      <td>1</td>\n",
       "      <td>0.222498</td>\n",
       "      <td>1</td>\n",
       "      <td>0.229941</td>\n",
       "      <td>1</td>\n",
       "      <td>0.000218</td>\n",
       "      <td>1</td>\n",
       "      <td>25514.589744</td>\n",
       "      <td>1</td>\n",
       "      <td>24170.948718</td>\n",
       "      <td>1</td>\n",
       "      <td>13928.743590</td>\n",
       "      <td>1</td>\n",
       "      <td>14958.794872</td>\n",
       "    </tr>\n",
       "    <tr>\n",
       "      <th>19512350</th>\n",
       "      <td>19512351</td>\n",
       "      <td>21754632.0</td>\n",
       "      <td>1</td>\n",
       "      <td>0</td>\n",
       "      <td>1</td>\n",
       "      <td>23892.256410</td>\n",
       "      <td>1</td>\n",
       "      <td>0.293734</td>\n",
       "      <td>1</td>\n",
       "      <td>0.222498</td>\n",
       "      <td>1</td>\n",
       "      <td>0.229941</td>\n",
       "      <td>1</td>\n",
       "      <td>0.000218</td>\n",
       "      <td>1</td>\n",
       "      <td>25514.589744</td>\n",
       "      <td>1</td>\n",
       "      <td>24170.948718</td>\n",
       "      <td>1</td>\n",
       "      <td>13928.743590</td>\n",
       "      <td>1</td>\n",
       "      <td>14958.794872</td>\n",
       "    </tr>\n",
       "    <tr>\n",
       "      <th>19512351</th>\n",
       "      <td>19512352</td>\n",
       "      <td>21754633.0</td>\n",
       "      <td>1</td>\n",
       "      <td>0</td>\n",
       "      <td>1</td>\n",
       "      <td>25972.666667</td>\n",
       "      <td>1</td>\n",
       "      <td>0.312024</td>\n",
       "      <td>1</td>\n",
       "      <td>0.232727</td>\n",
       "      <td>1</td>\n",
       "      <td>0.257197</td>\n",
       "      <td>1</td>\n",
       "      <td>0.008855</td>\n",
       "      <td>1</td>\n",
       "      <td>27367.717949</td>\n",
       "      <td>1</td>\n",
       "      <td>26340.153846</td>\n",
       "      <td>1</td>\n",
       "      <td>14350.589744</td>\n",
       "      <td>1</td>\n",
       "      <td>15345.692308</td>\n",
       "    </tr>\n",
       "    <tr>\n",
       "      <th>19512352</th>\n",
       "      <td>19512353</td>\n",
       "      <td>21754634.0</td>\n",
       "      <td>1</td>\n",
       "      <td>0</td>\n",
       "      <td>1</td>\n",
       "      <td>26408.871795</td>\n",
       "      <td>1</td>\n",
       "      <td>0.316904</td>\n",
       "      <td>1</td>\n",
       "      <td>0.236589</td>\n",
       "      <td>1</td>\n",
       "      <td>0.261970</td>\n",
       "      <td>1</td>\n",
       "      <td>0.020570</td>\n",
       "      <td>1</td>\n",
       "      <td>27782.076923</td>\n",
       "      <td>1</td>\n",
       "      <td>26785.358974</td>\n",
       "      <td>1</td>\n",
       "      <td>14410.948718</td>\n",
       "      <td>1</td>\n",
       "      <td>15444.538462</td>\n",
       "    </tr>\n",
       "  </tbody>\n",
       "</table>\n",
       "<p>19512353 rows × 22 columns</p>\n",
       "</div>"
      ],
      "text/plain": [
       "          Unnamed: 0        cell  ID.x  elevation  ID.y         SR_B3  ID.x.1  \\\n",
       "0                  1         1.0     1          0     1  23181.166667       1   \n",
       "1                  2         2.0     1          0     1  23181.166667       1   \n",
       "2                  3         3.0     1          0     1  22422.000000       1   \n",
       "3                  4         4.0     1          0     1  22497.419355       1   \n",
       "4                  5         5.0     1          0     1  22497.419355       1   \n",
       "...              ...         ...   ...        ...   ...           ...     ...   \n",
       "19512348    19512349  21754630.0     1          0     1  20148.102564       1   \n",
       "19512349    19512350  21754631.0     1          0     1  23892.256410       1   \n",
       "19512350    19512351  21754632.0     1          0     1  23892.256410       1   \n",
       "19512351    19512352  21754633.0     1          0     1  25972.666667       1   \n",
       "19512352    19512353  21754634.0     1          0     1  26408.871795       1   \n",
       "\n",
       "             NBR.x  ID.y.1      NDMI  ID.x.2     NBR.y  ID.y.2      NDVI  \\\n",
       "0         0.343966       1  0.306444       1  0.275582       1  0.133473   \n",
       "1         0.343966       1  0.306444       1  0.275582       1  0.133473   \n",
       "2         0.330201       1  0.293682       1  0.265092       1  0.118886   \n",
       "3         0.316396       1  0.275186       1  0.267656       1  0.108272   \n",
       "4         0.316396       1  0.275186       1  0.267656       1  0.108272   \n",
       "...            ...     ...       ...     ...       ...     ...       ...   \n",
       "19512348  0.290970       1  0.233264       1  0.180679       1  0.039978   \n",
       "19512349  0.293734       1  0.222498       1  0.229941       1  0.000218   \n",
       "19512350  0.293734       1  0.222498       1  0.229941       1  0.000218   \n",
       "19512351  0.312024       1  0.232727       1  0.257197       1  0.008855   \n",
       "19512352  0.316904       1  0.236589       1  0.261970       1  0.020570   \n",
       "\n",
       "          ID.x.3         SR_B5  ID.y.3         SR_B4  ID.x.4         SR_B7  \\\n",
       "0              1  25488.333333       1  22521.500000       1  12441.700000   \n",
       "1              1  25488.333333       1  22521.500000       1  12441.700000   \n",
       "2              1  24616.741935       1  21856.322581       1  12395.322581   \n",
       "3              1  23915.032258       1  21879.903226       1  12419.064516   \n",
       "4              1  23915.032258       1  21879.903226       1  12419.064516   \n",
       "...          ...           ...     ...           ...     ...           ...   \n",
       "19512348       1  23335.538462       1  20174.282051       1  12816.410256   \n",
       "19512349       1  25514.589744       1  24170.948718       1  13928.743590   \n",
       "19512350       1  25514.589744       1  24170.948718       1  13928.743590   \n",
       "19512351       1  27367.717949       1  26340.153846       1  14350.589744   \n",
       "19512352       1  27782.076923       1  26785.358974       1  14410.948718   \n",
       "\n",
       "          ID.y.4         SR_B6  \n",
       "0              1  13164.866667  \n",
       "1              1  13164.866667  \n",
       "2              1  13025.225806  \n",
       "3              1  12997.096774  \n",
       "4              1  12997.096774  \n",
       "...          ...           ...  \n",
       "19512348       1  13981.589744  \n",
       "19512349       1  14958.794872  \n",
       "19512350       1  14958.794872  \n",
       "19512351       1  15345.692308  \n",
       "19512352       1  15444.538462  \n",
       "\n",
       "[19512353 rows x 22 columns]"
      ]
     },
     "execution_count": 18,
     "metadata": {},
     "output_type": "execute_result"
    }
   ],
   "source": [
    "no_fires_df"
   ]
  },
  {
   "cell_type": "code",
   "execution_count": 19,
   "id": "13e31af5",
   "metadata": {
    "scrolled": false
   },
   "outputs": [
    {
     "name": "stdout",
     "output_type": "stream",
     "text": [
      "<class 'pandas.core.frame.DataFrame'>\n",
      "RangeIndex: 19512353 entries, 0 to 19512352\n",
      "Data columns (total 22 columns):\n",
      " #   Column      Dtype  \n",
      "---  ------      -----  \n",
      " 0   Unnamed: 0  int64  \n",
      " 1   cell        float64\n",
      " 2   ID.x        int64  \n",
      " 3   elevation   int64  \n",
      " 4   ID.y        int64  \n",
      " 5   SR_B3       float64\n",
      " 6   ID.x.1      int64  \n",
      " 7   NBR.x       float64\n",
      " 8   ID.y.1      int64  \n",
      " 9   NDMI        float64\n",
      " 10  ID.x.2      int64  \n",
      " 11  NBR.y       float64\n",
      " 12  ID.y.2      int64  \n",
      " 13  NDVI        float64\n",
      " 14  ID.x.3      int64  \n",
      " 15  SR_B5       float64\n",
      " 16  ID.y.3      int64  \n",
      " 17  SR_B4       float64\n",
      " 18  ID.x.4      int64  \n",
      " 19  SR_B7       float64\n",
      " 20  ID.y.4      int64  \n",
      " 21  SR_B6       float64\n",
      "dtypes: float64(10), int64(12)\n",
      "memory usage: 3.2 GB\n"
     ]
    }
   ],
   "source": [
    "no_fires_df.info()"
   ]
  },
  {
   "cell_type": "code",
   "execution_count": 20,
   "id": "de862f81",
   "metadata": {
    "scrolled": true
   },
   "outputs": [
    {
     "data": {
      "text/plain": [
       "Unnamed: 0    0\n",
       "cell          0\n",
       "ID.x          0\n",
       "elevation     0\n",
       "ID.y          0\n",
       "SR_B3         0\n",
       "ID.x.1        0\n",
       "NBR.x         0\n",
       "ID.y.1        0\n",
       "NDMI          0\n",
       "ID.x.2        0\n",
       "NBR.y         0\n",
       "ID.y.2        0\n",
       "NDVI          0\n",
       "ID.x.3        0\n",
       "SR_B5         0\n",
       "ID.y.3        0\n",
       "SR_B4         0\n",
       "ID.x.4        0\n",
       "SR_B7         0\n",
       "ID.y.4        0\n",
       "SR_B6         0\n",
       "dtype: int64"
      ]
     },
     "execution_count": 20,
     "metadata": {},
     "output_type": "execute_result"
    }
   ],
   "source": [
    "no_fires_df.isnull().sum()"
   ]
  },
  {
   "cell_type": "markdown",
   "id": "c1a25bf5",
   "metadata": {},
   "source": [
    "No missing values in the dataset"
   ]
  },
  {
   "cell_type": "code",
   "execution_count": 21,
   "id": "887fba9b",
   "metadata": {},
   "outputs": [
    {
     "name": "stdout",
     "output_type": "stream",
     "text": [
      "[True, True, True, True, True, True, True, True, True]\n"
     ]
    }
   ],
   "source": [
    "columns_x = ['ID.x', 'ID.x.1', 'ID.x.2', 'ID.x.3', 'ID.x.4']\n",
    "columns_y = ['ID.y', 'ID.y.1', 'ID.y.2', 'ID.y.3', 'ID.y.4']\n",
    "\n",
    "# Check equality for 'ID.x' columns\n",
    "equality_checks_x = [no_fires_df[col].equals(no_fires_df[columns_x[0]]) for col in columns_x[1:]]\n",
    "\n",
    "# Check equality for 'ID.y' columns\n",
    "equality_checks_y = [no_fires_df[col].equals(no_fires_df[columns_y[0]]) for col in columns_y[1:]]\n",
    "\n",
    "# Check if ID.x and ID.y values are also identical\n",
    "equality_check = no_fires_df['ID.x'].equals(no_fires_df['ID.y'])\n",
    "\n",
    "# Combine all equality checks\n",
    "all_equality_checks = equality_checks_x + equality_checks_y +[equality_check]\n",
    "\n",
    "# Print the results of equality checks\n",
    "print(all_equality_checks )"
   ]
  },
  {
   "cell_type": "code",
   "execution_count": 22,
   "id": "88829068",
   "metadata": {},
   "outputs": [
    {
     "data": {
      "text/plain": [
       "0    19512353\n",
       "Name: elevation, dtype: int64"
      ]
     },
     "execution_count": 22,
     "metadata": {},
     "output_type": "execute_result"
    }
   ],
   "source": [
    "# Checking elevation column.\n",
    "no_fires_df.elevation.value_counts()"
   ]
  },
  {
   "cell_type": "markdown",
   "id": "b8565ede",
   "metadata": {},
   "source": [
    "Similar to the fires dataset, the 'ID.x' and 'ID.y' columns, along with their variations, act as redundant ObjectIDs corresponding to each query layer in the geodatabase table. The 'cell' and 'Unnamed: 0' columns are used as indices, making them redundant as well. Furthermore, the 'elevation' column exclusively contains zero values. To streamline the code and improve its clarity and efficiency, we will eliminate these redundant columns from the dataset."
   ]
  },
  {
   "cell_type": "code",
   "execution_count": 23,
   "id": "93759f0e",
   "metadata": {},
   "outputs": [],
   "source": [
    "no_fires_df.drop(['Unnamed: 0', 'cell', 'elevation', 'ID.x','ID.y', 'ID.x.1', 'ID.x.2', 'ID.x.3', \n",
    "                          'ID.x.4', 'ID.y.1', 'ID.y.2', 'ID.y.3','ID.y.4'], axis=1,inplace = True)"
   ]
  },
  {
   "cell_type": "code",
   "execution_count": 24,
   "id": "45e6b472",
   "metadata": {},
   "outputs": [],
   "source": [
    "# Sort the columns\n",
    "no_fires_df.sort_index(axis = 1, inplace=True)"
   ]
  },
  {
   "cell_type": "code",
   "execution_count": 25,
   "id": "b1309c22",
   "metadata": {
    "scrolled": false
   },
   "outputs": [
    {
     "data": {
      "image/png": "[encoded data removed]",
      "text/plain": [
       "<Figure size 1500x1000 with 9 Axes>"
      ]
     },
     "metadata": {},
     "output_type": "display_data"
    }
   ],
   "source": [
    "# \n",
    "no_fires_df.hist(bins = 50, figsize=(15,10), ec='k', alpha=0.5 );"
   ]
  },
  {
   "cell_type": "code",
   "execution_count": 26,
   "id": "e822a3e1",
   "metadata": {},
   "outputs": [],
   "source": [
    "# Understanding the NDMI (Moisture Index) ranges:\n",
    "\n",
    "# merged_fire_df.hist(merged_df.NDMI, ec='w', bins=50, color='red')\n",
    "# plt.show()"
   ]
  },
  {
   "cell_type": "code",
   "execution_count": 27,
   "id": "e64bf898",
   "metadata": {},
   "outputs": [],
   "source": [
    "no_fires_df['Fire_Observed'] = 0"
   ]
  },
  {
   "cell_type": "code",
   "execution_count": 28,
   "id": "f4721219",
   "metadata": {},
   "outputs": [
    {
     "data": {
      "text/html": [
       "<div>\n",
       "<style scoped>\n",
       "    .dataframe tbody tr th:only-of-type {\n",
       "        vertical-align: middle;\n",
       "    }\n",
       "\n",
       "    .dataframe tbody tr th {\n",
       "        vertical-align: top;\n",
       "    }\n",
       "\n",
       "    .dataframe thead th {\n",
       "        text-align: right;\n",
       "    }\n",
       "</style>\n",
       "<table border=\"1\" class=\"dataframe\">\n",
       "  <thead>\n",
       "    <tr style=\"text-align: right;\">\n",
       "      <th></th>\n",
       "      <th>NBR.x</th>\n",
       "      <th>NBR.y</th>\n",
       "      <th>NDMI</th>\n",
       "      <th>NDVI</th>\n",
       "      <th>SR_B3</th>\n",
       "      <th>SR_B4</th>\n",
       "      <th>SR_B5</th>\n",
       "      <th>SR_B6</th>\n",
       "      <th>SR_B7</th>\n",
       "      <th>Fire_Observed</th>\n",
       "    </tr>\n",
       "  </thead>\n",
       "  <tbody>\n",
       "    <tr>\n",
       "      <th>0</th>\n",
       "      <td>0.343966</td>\n",
       "      <td>0.275582</td>\n",
       "      <td>0.306444</td>\n",
       "      <td>0.133473</td>\n",
       "      <td>23181.166667</td>\n",
       "      <td>22521.500000</td>\n",
       "      <td>25488.333333</td>\n",
       "      <td>13164.866667</td>\n",
       "      <td>12441.700000</td>\n",
       "      <td>0</td>\n",
       "    </tr>\n",
       "    <tr>\n",
       "      <th>1</th>\n",
       "      <td>0.343966</td>\n",
       "      <td>0.275582</td>\n",
       "      <td>0.306444</td>\n",
       "      <td>0.133473</td>\n",
       "      <td>23181.166667</td>\n",
       "      <td>22521.500000</td>\n",
       "      <td>25488.333333</td>\n",
       "      <td>13164.866667</td>\n",
       "      <td>12441.700000</td>\n",
       "      <td>0</td>\n",
       "    </tr>\n",
       "    <tr>\n",
       "      <th>2</th>\n",
       "      <td>0.330201</td>\n",
       "      <td>0.265092</td>\n",
       "      <td>0.293682</td>\n",
       "      <td>0.118886</td>\n",
       "      <td>22422.000000</td>\n",
       "      <td>21856.322581</td>\n",
       "      <td>24616.741935</td>\n",
       "      <td>13025.225806</td>\n",
       "      <td>12395.322581</td>\n",
       "      <td>0</td>\n",
       "    </tr>\n",
       "    <tr>\n",
       "      <th>3</th>\n",
       "      <td>0.316396</td>\n",
       "      <td>0.267656</td>\n",
       "      <td>0.275186</td>\n",
       "      <td>0.108272</td>\n",
       "      <td>22497.419355</td>\n",
       "      <td>21879.903226</td>\n",
       "      <td>23915.032258</td>\n",
       "      <td>12997.096774</td>\n",
       "      <td>12419.064516</td>\n",
       "      <td>0</td>\n",
       "    </tr>\n",
       "    <tr>\n",
       "      <th>4</th>\n",
       "      <td>0.316396</td>\n",
       "      <td>0.267656</td>\n",
       "      <td>0.275186</td>\n",
       "      <td>0.108272</td>\n",
       "      <td>22497.419355</td>\n",
       "      <td>21879.903226</td>\n",
       "      <td>23915.032258</td>\n",
       "      <td>12997.096774</td>\n",
       "      <td>12419.064516</td>\n",
       "      <td>0</td>\n",
       "    </tr>\n",
       "    <tr>\n",
       "      <th>...</th>\n",
       "      <td>...</td>\n",
       "      <td>...</td>\n",
       "      <td>...</td>\n",
       "      <td>...</td>\n",
       "      <td>...</td>\n",
       "      <td>...</td>\n",
       "      <td>...</td>\n",
       "      <td>...</td>\n",
       "      <td>...</td>\n",
       "      <td>...</td>\n",
       "    </tr>\n",
       "    <tr>\n",
       "      <th>19512348</th>\n",
       "      <td>0.290970</td>\n",
       "      <td>0.180679</td>\n",
       "      <td>0.233264</td>\n",
       "      <td>0.039978</td>\n",
       "      <td>20148.102564</td>\n",
       "      <td>20174.282051</td>\n",
       "      <td>23335.538462</td>\n",
       "      <td>13981.589744</td>\n",
       "      <td>12816.410256</td>\n",
       "      <td>0</td>\n",
       "    </tr>\n",
       "    <tr>\n",
       "      <th>19512349</th>\n",
       "      <td>0.293734</td>\n",
       "      <td>0.229941</td>\n",
       "      <td>0.222498</td>\n",
       "      <td>0.000218</td>\n",
       "      <td>23892.256410</td>\n",
       "      <td>24170.948718</td>\n",
       "      <td>25514.589744</td>\n",
       "      <td>14958.794872</td>\n",
       "      <td>13928.743590</td>\n",
       "      <td>0</td>\n",
       "    </tr>\n",
       "    <tr>\n",
       "      <th>19512350</th>\n",
       "      <td>0.293734</td>\n",
       "      <td>0.229941</td>\n",
       "      <td>0.222498</td>\n",
       "      <td>0.000218</td>\n",
       "      <td>23892.256410</td>\n",
       "      <td>24170.948718</td>\n",
       "      <td>25514.589744</td>\n",
       "      <td>14958.794872</td>\n",
       "      <td>13928.743590</td>\n",
       "      <td>0</td>\n",
       "    </tr>\n",
       "    <tr>\n",
       "      <th>19512351</th>\n",
       "      <td>0.312024</td>\n",
       "      <td>0.257197</td>\n",
       "      <td>0.232727</td>\n",
       "      <td>0.008855</td>\n",
       "      <td>25972.666667</td>\n",
       "      <td>26340.153846</td>\n",
       "      <td>27367.717949</td>\n",
       "      <td>15345.692308</td>\n",
       "      <td>14350.589744</td>\n",
       "      <td>0</td>\n",
       "    </tr>\n",
       "    <tr>\n",
       "      <th>19512352</th>\n",
       "      <td>0.316904</td>\n",
       "      <td>0.261970</td>\n",
       "      <td>0.236589</td>\n",
       "      <td>0.020570</td>\n",
       "      <td>26408.871795</td>\n",
       "      <td>26785.358974</td>\n",
       "      <td>27782.076923</td>\n",
       "      <td>15444.538462</td>\n",
       "      <td>14410.948718</td>\n",
       "      <td>0</td>\n",
       "    </tr>\n",
       "  </tbody>\n",
       "</table>\n",
       "<p>19512353 rows × 10 columns</p>\n",
       "</div>"
      ],
      "text/plain": [
       "             NBR.x     NBR.y      NDMI      NDVI         SR_B3         SR_B4  \\\n",
       "0         0.343966  0.275582  0.306444  0.133473  23181.166667  22521.500000   \n",
       "1         0.343966  0.275582  0.306444  0.133473  23181.166667  22521.500000   \n",
       "2         0.330201  0.265092  0.293682  0.118886  22422.000000  21856.322581   \n",
       "3         0.316396  0.267656  0.275186  0.108272  22497.419355  21879.903226   \n",
       "4         0.316396  0.267656  0.275186  0.108272  22497.419355  21879.903226   \n",
       "...            ...       ...       ...       ...           ...           ...   \n",
       "19512348  0.290970  0.180679  0.233264  0.039978  20148.102564  20174.282051   \n",
       "19512349  0.293734  0.229941  0.222498  0.000218  23892.256410  24170.948718   \n",
       "19512350  0.293734  0.229941  0.222498  0.000218  23892.256410  24170.948718   \n",
       "19512351  0.312024  0.257197  0.232727  0.008855  25972.666667  26340.153846   \n",
       "19512352  0.316904  0.261970  0.236589  0.020570  26408.871795  26785.358974   \n",
       "\n",
       "                 SR_B5         SR_B6         SR_B7  Fire_Observed  \n",
       "0         25488.333333  13164.866667  12441.700000              0  \n",
       "1         25488.333333  13164.866667  12441.700000              0  \n",
       "2         24616.741935  13025.225806  12395.322581              0  \n",
       "3         23915.032258  12997.096774  12419.064516              0  \n",
       "4         23915.032258  12997.096774  12419.064516              0  \n",
       "...                ...           ...           ...            ...  \n",
       "19512348  23335.538462  13981.589744  12816.410256              0  \n",
       "19512349  25514.589744  14958.794872  13928.743590              0  \n",
       "19512350  25514.589744  14958.794872  13928.743590              0  \n",
       "19512351  27367.717949  15345.692308  14350.589744              0  \n",
       "19512352  27782.076923  15444.538462  14410.948718              0  \n",
       "\n",
       "[19512353 rows x 10 columns]"
      ]
     },
     "execution_count": 28,
     "metadata": {},
     "output_type": "execute_result"
    }
   ],
   "source": [
    "no_fires_df"
   ]
  },
  {
   "cell_type": "code",
   "execution_count": 29,
   "id": "11380bb4",
   "metadata": {},
   "outputs": [],
   "source": [
    "# lst = [fires_df, no_fires_df]\n",
    "merged_fire_df = pd.concat([fires_df, no_fires_df], ignore_index=True).copy()"
   ]
  },
  {
   "cell_type": "code",
   "execution_count": 30,
   "id": "80db5420",
   "metadata": {},
   "outputs": [
    {
     "data": {
      "text/html": [
       "<div>\n",
       "<style scoped>\n",
       "    .dataframe tbody tr th:only-of-type {\n",
       "        vertical-align: middle;\n",
       "    }\n",
       "\n",
       "    .dataframe tbody tr th {\n",
       "        vertical-align: top;\n",
       "    }\n",
       "\n",
       "    .dataframe thead th {\n",
       "        text-align: right;\n",
       "    }\n",
       "</style>\n",
       "<table border=\"1\" class=\"dataframe\">\n",
       "  <thead>\n",
       "    <tr style=\"text-align: right;\">\n",
       "      <th></th>\n",
       "      <th>NBR.x</th>\n",
       "      <th>NBR.y</th>\n",
       "      <th>NDMI</th>\n",
       "      <th>NDVI</th>\n",
       "      <th>SR_B3</th>\n",
       "      <th>SR_B4</th>\n",
       "      <th>SR_B5</th>\n",
       "      <th>SR_B6</th>\n",
       "      <th>SR_B7</th>\n",
       "      <th>Fire_Observed</th>\n",
       "    </tr>\n",
       "  </thead>\n",
       "  <tbody>\n",
       "    <tr>\n",
       "      <th>0</th>\n",
       "      <td>0.199563</td>\n",
       "      <td>0.073842</td>\n",
       "      <td>0.142595</td>\n",
       "      <td>0.251519</td>\n",
       "      <td>14378.076923</td>\n",
       "      <td>14132.897436</td>\n",
       "      <td>17243.179487</td>\n",
       "      <td>12400.692308</td>\n",
       "      <td>11505.923077</td>\n",
       "      <td>1</td>\n",
       "    </tr>\n",
       "    <tr>\n",
       "      <th>1</th>\n",
       "      <td>0.202467</td>\n",
       "      <td>0.075767</td>\n",
       "      <td>0.146416</td>\n",
       "      <td>0.251899</td>\n",
       "      <td>14478.461538</td>\n",
       "      <td>14187.512821</td>\n",
       "      <td>17374.564103</td>\n",
       "      <td>12439.000000</td>\n",
       "      <td>11523.641026</td>\n",
       "      <td>1</td>\n",
       "    </tr>\n",
       "    <tr>\n",
       "      <th>2</th>\n",
       "      <td>0.203500</td>\n",
       "      <td>0.080366</td>\n",
       "      <td>0.149354</td>\n",
       "      <td>0.200919</td>\n",
       "      <td>14550.717949</td>\n",
       "      <td>14252.923077</td>\n",
       "      <td>17373.333333</td>\n",
       "      <td>12385.923077</td>\n",
       "      <td>11498.025641</td>\n",
       "      <td>1</td>\n",
       "    </tr>\n",
       "    <tr>\n",
       "      <th>3</th>\n",
       "      <td>0.203500</td>\n",
       "      <td>0.080366</td>\n",
       "      <td>0.149354</td>\n",
       "      <td>0.200919</td>\n",
       "      <td>14550.717949</td>\n",
       "      <td>14252.923077</td>\n",
       "      <td>17373.333333</td>\n",
       "      <td>12385.923077</td>\n",
       "      <td>11498.025641</td>\n",
       "      <td>1</td>\n",
       "    </tr>\n",
       "    <tr>\n",
       "      <th>4</th>\n",
       "      <td>0.199142</td>\n",
       "      <td>0.077757</td>\n",
       "      <td>0.143624</td>\n",
       "      <td>0.177838</td>\n",
       "      <td>14636.820513</td>\n",
       "      <td>14342.025641</td>\n",
       "      <td>17403.205128</td>\n",
       "      <td>12524.820513</td>\n",
       "      <td>11622.897436</td>\n",
       "      <td>1</td>\n",
       "    </tr>\n",
       "    <tr>\n",
       "      <th>...</th>\n",
       "      <td>...</td>\n",
       "      <td>...</td>\n",
       "      <td>...</td>\n",
       "      <td>...</td>\n",
       "      <td>...</td>\n",
       "      <td>...</td>\n",
       "      <td>...</td>\n",
       "      <td>...</td>\n",
       "      <td>...</td>\n",
       "      <td>...</td>\n",
       "    </tr>\n",
       "    <tr>\n",
       "      <th>19978771</th>\n",
       "      <td>0.290970</td>\n",
       "      <td>0.180679</td>\n",
       "      <td>0.233264</td>\n",
       "      <td>0.039978</td>\n",
       "      <td>20148.102564</td>\n",
       "      <td>20174.282051</td>\n",
       "      <td>23335.538462</td>\n",
       "      <td>13981.589744</td>\n",
       "      <td>12816.410256</td>\n",
       "      <td>0</td>\n",
       "    </tr>\n",
       "    <tr>\n",
       "      <th>19978772</th>\n",
       "      <td>0.293734</td>\n",
       "      <td>0.229941</td>\n",
       "      <td>0.222498</td>\n",
       "      <td>0.000218</td>\n",
       "      <td>23892.256410</td>\n",
       "      <td>24170.948718</td>\n",
       "      <td>25514.589744</td>\n",
       "      <td>14958.794872</td>\n",
       "      <td>13928.743590</td>\n",
       "      <td>0</td>\n",
       "    </tr>\n",
       "    <tr>\n",
       "      <th>19978773</th>\n",
       "      <td>0.293734</td>\n",
       "      <td>0.229941</td>\n",
       "      <td>0.222498</td>\n",
       "      <td>0.000218</td>\n",
       "      <td>23892.256410</td>\n",
       "      <td>24170.948718</td>\n",
       "      <td>25514.589744</td>\n",
       "      <td>14958.794872</td>\n",
       "      <td>13928.743590</td>\n",
       "      <td>0</td>\n",
       "    </tr>\n",
       "    <tr>\n",
       "      <th>19978774</th>\n",
       "      <td>0.312024</td>\n",
       "      <td>0.257197</td>\n",
       "      <td>0.232727</td>\n",
       "      <td>0.008855</td>\n",
       "      <td>25972.666667</td>\n",
       "      <td>26340.153846</td>\n",
       "      <td>27367.717949</td>\n",
       "      <td>15345.692308</td>\n",
       "      <td>14350.589744</td>\n",
       "      <td>0</td>\n",
       "    </tr>\n",
       "    <tr>\n",
       "      <th>19978775</th>\n",
       "      <td>0.316904</td>\n",
       "      <td>0.261970</td>\n",
       "      <td>0.236589</td>\n",
       "      <td>0.020570</td>\n",
       "      <td>26408.871795</td>\n",
       "      <td>26785.358974</td>\n",
       "      <td>27782.076923</td>\n",
       "      <td>15444.538462</td>\n",
       "      <td>14410.948718</td>\n",
       "      <td>0</td>\n",
       "    </tr>\n",
       "  </tbody>\n",
       "</table>\n",
       "<p>19978776 rows × 10 columns</p>\n",
       "</div>"
      ],
      "text/plain": [
       "             NBR.x     NBR.y      NDMI      NDVI         SR_B3         SR_B4  \\\n",
       "0         0.199563  0.073842  0.142595  0.251519  14378.076923  14132.897436   \n",
       "1         0.202467  0.075767  0.146416  0.251899  14478.461538  14187.512821   \n",
       "2         0.203500  0.080366  0.149354  0.200919  14550.717949  14252.923077   \n",
       "3         0.203500  0.080366  0.149354  0.200919  14550.717949  14252.923077   \n",
       "4         0.199142  0.077757  0.143624  0.177838  14636.820513  14342.025641   \n",
       "...            ...       ...       ...       ...           ...           ...   \n",
       "19978771  0.290970  0.180679  0.233264  0.039978  20148.102564  20174.282051   \n",
       "19978772  0.293734  0.229941  0.222498  0.000218  23892.256410  24170.948718   \n",
       "19978773  0.293734  0.229941  0.222498  0.000218  23892.256410  24170.948718   \n",
       "19978774  0.312024  0.257197  0.232727  0.008855  25972.666667  26340.153846   \n",
       "19978775  0.316904  0.261970  0.236589  0.020570  26408.871795  26785.358974   \n",
       "\n",
       "                 SR_B5         SR_B6         SR_B7  Fire_Observed  \n",
       "0         17243.179487  12400.692308  11505.923077              1  \n",
       "1         17374.564103  12439.000000  11523.641026              1  \n",
       "2         17373.333333  12385.923077  11498.025641              1  \n",
       "3         17373.333333  12385.923077  11498.025641              1  \n",
       "4         17403.205128  12524.820513  11622.897436              1  \n",
       "...                ...           ...           ...            ...  \n",
       "19978771  23335.538462  13981.589744  12816.410256              0  \n",
       "19978772  25514.589744  14958.794872  13928.743590              0  \n",
       "19978773  25514.589744  14958.794872  13928.743590              0  \n",
       "19978774  27367.717949  15345.692308  14350.589744              0  \n",
       "19978775  27782.076923  15444.538462  14410.948718              0  \n",
       "\n",
       "[19978776 rows x 10 columns]"
      ]
     },
     "execution_count": 30,
     "metadata": {},
     "output_type": "execute_result"
    }
   ],
   "source": [
    "merged_fire_df"
   ]
  },
  {
   "cell_type": "code",
   "execution_count": 31,
   "id": "7eb7acb7",
   "metadata": {},
   "outputs": [
    {
     "data": {
      "image/png": "[encoded data removed]",
      "text/plain": [
       "<Figure size 640x480 with 1 Axes>"
      ]
     },
     "metadata": {},
     "output_type": "display_data"
    }
   ],
   "source": [
    "# Understanding the NDMI (Moisture Index) ranges:\n",
    "\n",
    "merged_fire_df[\"NDMI\"].hist(ec='w', bins=50, color='red');"
   ]
  },
  {
   "cell_type": "code",
   "execution_count": 32,
   "id": "6c50e549",
   "metadata": {},
   "outputs": [
    {
     "data": {
      "text/plain": [
       "0.2-0.3     12852922\n",
       "0.1-0.2      5656299\n",
       "0.3-0.4      1193214\n",
       "0.0-0.1       220181\n",
       "0.4-0.5        56152\n",
       "Name: NDMI_cat, dtype: int64"
      ]
     },
     "execution_count": 32,
     "metadata": {},
     "output_type": "execute_result"
    }
   ],
   "source": [
    "# Binning NDMI values into buckets\n",
    "merged_fire_df['NDMI_cat'] = pd.cut(merged_fire_df['NDMI'], bins=[0.0, 0.1, 0.2, 0.3, 0.4, 0.5], \n",
    "                                    include_lowest=True,\n",
    "                                    labels=['0.0-0.1 ', '0.1-0.2', '0.2-0.3', '0.3-0.4', '0.4-0.5'])\n",
    "# Check NDMI values\n",
    "merged_fire_df['NDMI_cat'].value_counts()"
   ]
  },
  {
   "cell_type": "code",
   "execution_count": 33,
   "id": "f91a5357",
   "metadata": {},
   "outputs": [
    {
     "data": {
      "text/html": [
       "<div>\n",
       "<style scoped>\n",
       "    .dataframe tbody tr th:only-of-type {\n",
       "        vertical-align: middle;\n",
       "    }\n",
       "\n",
       "    .dataframe tbody tr th {\n",
       "        vertical-align: top;\n",
       "    }\n",
       "\n",
       "    .dataframe thead th {\n",
       "        text-align: right;\n",
       "    }\n",
       "</style>\n",
       "<table border=\"1\" class=\"dataframe\">\n",
       "  <thead>\n",
       "    <tr style=\"text-align: right;\">\n",
       "      <th></th>\n",
       "      <th>NBR.x</th>\n",
       "      <th>NBR.y</th>\n",
       "      <th>NDMI</th>\n",
       "      <th>NDVI</th>\n",
       "      <th>SR_B3</th>\n",
       "      <th>SR_B4</th>\n",
       "      <th>SR_B5</th>\n",
       "      <th>SR_B6</th>\n",
       "      <th>SR_B7</th>\n",
       "      <th>Fire_Observed</th>\n",
       "      <th>NDMI_cat</th>\n",
       "    </tr>\n",
       "  </thead>\n",
       "  <tbody>\n",
       "    <tr>\n",
       "      <th>0</th>\n",
       "      <td>0.199563</td>\n",
       "      <td>0.073842</td>\n",
       "      <td>0.142595</td>\n",
       "      <td>0.251519</td>\n",
       "      <td>14378.076923</td>\n",
       "      <td>14132.897436</td>\n",
       "      <td>17243.179487</td>\n",
       "      <td>12400.692308</td>\n",
       "      <td>11505.923077</td>\n",
       "      <td>1</td>\n",
       "      <td>0.1-0.2</td>\n",
       "    </tr>\n",
       "    <tr>\n",
       "      <th>1</th>\n",
       "      <td>0.202467</td>\n",
       "      <td>0.075767</td>\n",
       "      <td>0.146416</td>\n",
       "      <td>0.251899</td>\n",
       "      <td>14478.461538</td>\n",
       "      <td>14187.512821</td>\n",
       "      <td>17374.564103</td>\n",
       "      <td>12439.000000</td>\n",
       "      <td>11523.641026</td>\n",
       "      <td>1</td>\n",
       "      <td>0.1-0.2</td>\n",
       "    </tr>\n",
       "    <tr>\n",
       "      <th>2</th>\n",
       "      <td>0.203500</td>\n",
       "      <td>0.080366</td>\n",
       "      <td>0.149354</td>\n",
       "      <td>0.200919</td>\n",
       "      <td>14550.717949</td>\n",
       "      <td>14252.923077</td>\n",
       "      <td>17373.333333</td>\n",
       "      <td>12385.923077</td>\n",
       "      <td>11498.025641</td>\n",
       "      <td>1</td>\n",
       "      <td>0.1-0.2</td>\n",
       "    </tr>\n",
       "    <tr>\n",
       "      <th>3</th>\n",
       "      <td>0.203500</td>\n",
       "      <td>0.080366</td>\n",
       "      <td>0.149354</td>\n",
       "      <td>0.200919</td>\n",
       "      <td>14550.717949</td>\n",
       "      <td>14252.923077</td>\n",
       "      <td>17373.333333</td>\n",
       "      <td>12385.923077</td>\n",
       "      <td>11498.025641</td>\n",
       "      <td>1</td>\n",
       "      <td>0.1-0.2</td>\n",
       "    </tr>\n",
       "    <tr>\n",
       "      <th>4</th>\n",
       "      <td>0.199142</td>\n",
       "      <td>0.077757</td>\n",
       "      <td>0.143624</td>\n",
       "      <td>0.177838</td>\n",
       "      <td>14636.820513</td>\n",
       "      <td>14342.025641</td>\n",
       "      <td>17403.205128</td>\n",
       "      <td>12524.820513</td>\n",
       "      <td>11622.897436</td>\n",
       "      <td>1</td>\n",
       "      <td>0.1-0.2</td>\n",
       "    </tr>\n",
       "  </tbody>\n",
       "</table>\n",
       "</div>"
      ],
      "text/plain": [
       "      NBR.x     NBR.y      NDMI      NDVI         SR_B3         SR_B4  \\\n",
       "0  0.199563  0.073842  0.142595  0.251519  14378.076923  14132.897436   \n",
       "1  0.202467  0.075767  0.146416  0.251899  14478.461538  14187.512821   \n",
       "2  0.203500  0.080366  0.149354  0.200919  14550.717949  14252.923077   \n",
       "3  0.203500  0.080366  0.149354  0.200919  14550.717949  14252.923077   \n",
       "4  0.199142  0.077757  0.143624  0.177838  14636.820513  14342.025641   \n",
       "\n",
       "          SR_B5         SR_B6         SR_B7  Fire_Observed NDMI_cat  \n",
       "0  17243.179487  12400.692308  11505.923077              1  0.1-0.2  \n",
       "1  17374.564103  12439.000000  11523.641026              1  0.1-0.2  \n",
       "2  17373.333333  12385.923077  11498.025641              1  0.1-0.2  \n",
       "3  17373.333333  12385.923077  11498.025641              1  0.1-0.2  \n",
       "4  17403.205128  12524.820513  11622.897436              1  0.1-0.2  "
      ]
     },
     "execution_count": 33,
     "metadata": {},
     "output_type": "execute_result"
    }
   ],
   "source": [
    "merged_fire_df.head()"
   ]
  },
  {
   "cell_type": "code",
   "execution_count": 34,
   "id": "905e22a2",
   "metadata": {},
   "outputs": [
    {
     "data": {
      "image/png": "[encoded data removed]",
      "text/plain": [
       "<Figure size 640x480 with 1 Axes>"
      ]
     },
     "metadata": {},
     "output_type": "display_data"
    }
   ],
   "source": [
    "# Understanding the NDVI (Vegetation Index) ranges:\n",
    "\n",
    "merged_fire_df[\"NDVI\"].hist(ec='w', bins=50, color='red');"
   ]
  },
  {
   "cell_type": "code",
   "execution_count": 35,
   "id": "acd96280",
   "metadata": {
    "scrolled": true
   },
   "outputs": [
    {
     "data": {
      "text/plain": [
       "0.0-0.1      6890479\n",
       "0.1-0.2      6152015\n",
       "0.2-0.3      4332292\n",
       "-0.1-0.0     1663115\n",
       "0.3-0.4       886051\n",
       "0.4-0.5        53217\n",
       "-0.2--0.1       1288\n",
       "Name: NDVI_cat, dtype: int64"
      ]
     },
     "execution_count": 35,
     "metadata": {},
     "output_type": "execute_result"
    }
   ],
   "source": [
    "# Binning NDVI values into buckets\n",
    "merged_fire_df['NDVI_cat'] = pd.cut(merged_fire_df['NDVI'], bins=[-0.2, -0.1, 0.0, 0.1, 0.2, 0.3, 0.4, 0.5], \n",
    "                                    include_lowest=True,\n",
    "                                    labels=['-0.2--0.1', '-0.1-0.0', '0.0-0.1 ', '0.1-0.2', '0.2-0.3', '0.3-0.4', \n",
    "                                            '0.4-0.5'])\n",
    "\n",
    "merged_fire_df['NDVI_cat'].value_counts()"
   ]
  },
  {
   "cell_type": "raw",
   "id": "e08abf73",
   "metadata": {},
   "source": [
    "merged_fire_df['NDVI_cat'].hist()"
   ]
  },
  {
   "cell_type": "code",
   "execution_count": 36,
   "id": "4320abe5",
   "metadata": {},
   "outputs": [
    {
     "data": {
      "text/html": [
       "<div>\n",
       "<style scoped>\n",
       "    .dataframe tbody tr th:only-of-type {\n",
       "        vertical-align: middle;\n",
       "    }\n",
       "\n",
       "    .dataframe tbody tr th {\n",
       "        vertical-align: top;\n",
       "    }\n",
       "\n",
       "    .dataframe thead th {\n",
       "        text-align: right;\n",
       "    }\n",
       "</style>\n",
       "<table border=\"1\" class=\"dataframe\">\n",
       "  <thead>\n",
       "    <tr style=\"text-align: right;\">\n",
       "      <th></th>\n",
       "      <th>NBR.x</th>\n",
       "      <th>NBR.y</th>\n",
       "      <th>NDMI</th>\n",
       "      <th>NDVI</th>\n",
       "      <th>SR_B3</th>\n",
       "      <th>SR_B4</th>\n",
       "      <th>SR_B5</th>\n",
       "      <th>SR_B6</th>\n",
       "      <th>SR_B7</th>\n",
       "      <th>Fire_Observed</th>\n",
       "      <th>NDMI_cat</th>\n",
       "      <th>NDVI_cat</th>\n",
       "    </tr>\n",
       "  </thead>\n",
       "  <tbody>\n",
       "    <tr>\n",
       "      <th>0</th>\n",
       "      <td>0.199563</td>\n",
       "      <td>0.073842</td>\n",
       "      <td>0.142595</td>\n",
       "      <td>0.251519</td>\n",
       "      <td>14378.076923</td>\n",
       "      <td>14132.897436</td>\n",
       "      <td>17243.179487</td>\n",
       "      <td>12400.692308</td>\n",
       "      <td>11505.923077</td>\n",
       "      <td>1</td>\n",
       "      <td>0.1-0.2</td>\n",
       "      <td>0.2-0.3</td>\n",
       "    </tr>\n",
       "    <tr>\n",
       "      <th>1</th>\n",
       "      <td>0.202467</td>\n",
       "      <td>0.075767</td>\n",
       "      <td>0.146416</td>\n",
       "      <td>0.251899</td>\n",
       "      <td>14478.461538</td>\n",
       "      <td>14187.512821</td>\n",
       "      <td>17374.564103</td>\n",
       "      <td>12439.000000</td>\n",
       "      <td>11523.641026</td>\n",
       "      <td>1</td>\n",
       "      <td>0.1-0.2</td>\n",
       "      <td>0.2-0.3</td>\n",
       "    </tr>\n",
       "    <tr>\n",
       "      <th>2</th>\n",
       "      <td>0.203500</td>\n",
       "      <td>0.080366</td>\n",
       "      <td>0.149354</td>\n",
       "      <td>0.200919</td>\n",
       "      <td>14550.717949</td>\n",
       "      <td>14252.923077</td>\n",
       "      <td>17373.333333</td>\n",
       "      <td>12385.923077</td>\n",
       "      <td>11498.025641</td>\n",
       "      <td>1</td>\n",
       "      <td>0.1-0.2</td>\n",
       "      <td>0.2-0.3</td>\n",
       "    </tr>\n",
       "    <tr>\n",
       "      <th>3</th>\n",
       "      <td>0.203500</td>\n",
       "      <td>0.080366</td>\n",
       "      <td>0.149354</td>\n",
       "      <td>0.200919</td>\n",
       "      <td>14550.717949</td>\n",
       "      <td>14252.923077</td>\n",
       "      <td>17373.333333</td>\n",
       "      <td>12385.923077</td>\n",
       "      <td>11498.025641</td>\n",
       "      <td>1</td>\n",
       "      <td>0.1-0.2</td>\n",
       "      <td>0.2-0.3</td>\n",
       "    </tr>\n",
       "    <tr>\n",
       "      <th>4</th>\n",
       "      <td>0.199142</td>\n",
       "      <td>0.077757</td>\n",
       "      <td>0.143624</td>\n",
       "      <td>0.177838</td>\n",
       "      <td>14636.820513</td>\n",
       "      <td>14342.025641</td>\n",
       "      <td>17403.205128</td>\n",
       "      <td>12524.820513</td>\n",
       "      <td>11622.897436</td>\n",
       "      <td>1</td>\n",
       "      <td>0.1-0.2</td>\n",
       "      <td>0.1-0.2</td>\n",
       "    </tr>\n",
       "  </tbody>\n",
       "</table>\n",
       "</div>"
      ],
      "text/plain": [
       "      NBR.x     NBR.y      NDMI      NDVI         SR_B3         SR_B4  \\\n",
       "0  0.199563  0.073842  0.142595  0.251519  14378.076923  14132.897436   \n",
       "1  0.202467  0.075767  0.146416  0.251899  14478.461538  14187.512821   \n",
       "2  0.203500  0.080366  0.149354  0.200919  14550.717949  14252.923077   \n",
       "3  0.203500  0.080366  0.149354  0.200919  14550.717949  14252.923077   \n",
       "4  0.199142  0.077757  0.143624  0.177838  14636.820513  14342.025641   \n",
       "\n",
       "          SR_B5         SR_B6         SR_B7  Fire_Observed NDMI_cat NDVI_cat  \n",
       "0  17243.179487  12400.692308  11505.923077              1  0.1-0.2  0.2-0.3  \n",
       "1  17374.564103  12439.000000  11523.641026              1  0.1-0.2  0.2-0.3  \n",
       "2  17373.333333  12385.923077  11498.025641              1  0.1-0.2  0.2-0.3  \n",
       "3  17373.333333  12385.923077  11498.025641              1  0.1-0.2  0.2-0.3  \n",
       "4  17403.205128  12524.820513  11622.897436              1  0.1-0.2  0.1-0.2  "
      ]
     },
     "execution_count": 36,
     "metadata": {},
     "output_type": "execute_result"
    }
   ],
   "source": [
    "merged_fire_df.head()"
   ]
  },
  {
   "cell_type": "code",
   "execution_count": 37,
   "id": "33e526d3",
   "metadata": {
    "scrolled": false
   },
   "outputs": [
    {
     "data": {
      "text/html": [
       "<div>\n",
       "<style scoped>\n",
       "    .dataframe tbody tr th:only-of-type {\n",
       "        vertical-align: middle;\n",
       "    }\n",
       "\n",
       "    .dataframe tbody tr th {\n",
       "        vertical-align: top;\n",
       "    }\n",
       "\n",
       "    .dataframe thead th {\n",
       "        text-align: right;\n",
       "    }\n",
       "</style>\n",
       "<table border=\"1\" class=\"dataframe\">\n",
       "  <thead>\n",
       "    <tr style=\"text-align: right;\">\n",
       "      <th></th>\n",
       "      <th>NBR.x</th>\n",
       "      <th>NBR.y</th>\n",
       "      <th>NDMI</th>\n",
       "      <th>NDVI</th>\n",
       "      <th>SR_B3</th>\n",
       "      <th>SR_B4</th>\n",
       "      <th>SR_B5</th>\n",
       "      <th>SR_B6</th>\n",
       "      <th>SR_B7</th>\n",
       "      <th>NDMI_cat</th>\n",
       "      <th>NDVI_cat</th>\n",
       "      <th>Fire_Observed</th>\n",
       "    </tr>\n",
       "  </thead>\n",
       "  <tbody>\n",
       "    <tr>\n",
       "      <th>0</th>\n",
       "      <td>0.199563</td>\n",
       "      <td>0.073842</td>\n",
       "      <td>0.142595</td>\n",
       "      <td>0.251519</td>\n",
       "      <td>14378.076923</td>\n",
       "      <td>14132.897436</td>\n",
       "      <td>17243.179487</td>\n",
       "      <td>12400.692308</td>\n",
       "      <td>11505.923077</td>\n",
       "      <td>0.1-0.2</td>\n",
       "      <td>0.2-0.3</td>\n",
       "      <td>1</td>\n",
       "    </tr>\n",
       "    <tr>\n",
       "      <th>1</th>\n",
       "      <td>0.202467</td>\n",
       "      <td>0.075767</td>\n",
       "      <td>0.146416</td>\n",
       "      <td>0.251899</td>\n",
       "      <td>14478.461538</td>\n",
       "      <td>14187.512821</td>\n",
       "      <td>17374.564103</td>\n",
       "      <td>12439.000000</td>\n",
       "      <td>11523.641026</td>\n",
       "      <td>0.1-0.2</td>\n",
       "      <td>0.2-0.3</td>\n",
       "      <td>1</td>\n",
       "    </tr>\n",
       "    <tr>\n",
       "      <th>2</th>\n",
       "      <td>0.203500</td>\n",
       "      <td>0.080366</td>\n",
       "      <td>0.149354</td>\n",
       "      <td>0.200919</td>\n",
       "      <td>14550.717949</td>\n",
       "      <td>14252.923077</td>\n",
       "      <td>17373.333333</td>\n",
       "      <td>12385.923077</td>\n",
       "      <td>11498.025641</td>\n",
       "      <td>0.1-0.2</td>\n",
       "      <td>0.2-0.3</td>\n",
       "      <td>1</td>\n",
       "    </tr>\n",
       "    <tr>\n",
       "      <th>3</th>\n",
       "      <td>0.203500</td>\n",
       "      <td>0.080366</td>\n",
       "      <td>0.149354</td>\n",
       "      <td>0.200919</td>\n",
       "      <td>14550.717949</td>\n",
       "      <td>14252.923077</td>\n",
       "      <td>17373.333333</td>\n",
       "      <td>12385.923077</td>\n",
       "      <td>11498.025641</td>\n",
       "      <td>0.1-0.2</td>\n",
       "      <td>0.2-0.3</td>\n",
       "      <td>1</td>\n",
       "    </tr>\n",
       "    <tr>\n",
       "      <th>4</th>\n",
       "      <td>0.199142</td>\n",
       "      <td>0.077757</td>\n",
       "      <td>0.143624</td>\n",
       "      <td>0.177838</td>\n",
       "      <td>14636.820513</td>\n",
       "      <td>14342.025641</td>\n",
       "      <td>17403.205128</td>\n",
       "      <td>12524.820513</td>\n",
       "      <td>11622.897436</td>\n",
       "      <td>0.1-0.2</td>\n",
       "      <td>0.1-0.2</td>\n",
       "      <td>1</td>\n",
       "    </tr>\n",
       "  </tbody>\n",
       "</table>\n",
       "</div>"
      ],
      "text/plain": [
       "      NBR.x     NBR.y      NDMI      NDVI         SR_B3         SR_B4  \\\n",
       "0  0.199563  0.073842  0.142595  0.251519  14378.076923  14132.897436   \n",
       "1  0.202467  0.075767  0.146416  0.251899  14478.461538  14187.512821   \n",
       "2  0.203500  0.080366  0.149354  0.200919  14550.717949  14252.923077   \n",
       "3  0.203500  0.080366  0.149354  0.200919  14550.717949  14252.923077   \n",
       "4  0.199142  0.077757  0.143624  0.177838  14636.820513  14342.025641   \n",
       "\n",
       "          SR_B5         SR_B6         SR_B7 NDMI_cat NDVI_cat  Fire_Observed  \n",
       "0  17243.179487  12400.692308  11505.923077  0.1-0.2  0.2-0.3              1  \n",
       "1  17374.564103  12439.000000  11523.641026  0.1-0.2  0.2-0.3              1  \n",
       "2  17373.333333  12385.923077  11498.025641  0.1-0.2  0.2-0.3              1  \n",
       "3  17373.333333  12385.923077  11498.025641  0.1-0.2  0.2-0.3              1  \n",
       "4  17403.205128  12524.820513  11622.897436  0.1-0.2  0.1-0.2              1  "
      ]
     },
     "execution_count": 37,
     "metadata": {},
     "output_type": "execute_result"
    }
   ],
   "source": [
    "merged_fire_df = merged_fire_df[[col for col in merged_fire_df.columns \n",
    "                                 if col != 'Fire_Observed'] + ['Fire_Observed']]\n",
    "\n",
    "merged_fire_df.head()"
   ]
  },
  {
   "cell_type": "code",
   "execution_count": 38,
   "id": "83897016",
   "metadata": {},
   "outputs": [
    {
     "name": "stdout",
     "output_type": "stream",
     "text": [
      "Skewness for Merged Fires Dataset: \n",
      "NBR.x            0.155154\n",
      "NBR.y            0.946188\n",
      "NDMI             0.174902\n",
      "NDVI             0.302500\n",
      "SR_B3            1.232878\n",
      "SR_B4            1.203183\n",
      "SR_B5            0.648427\n",
      "SR_B6            0.275382\n",
      "SR_B7            0.311555\n",
      "Fire_Observed    6.313314\n",
      "dtype: float64\n",
      "\n",
      "Kurtosis for Merged Fires Dataset: \n",
      "NBR.x             0.711286\n",
      "NBR.y             1.571445\n",
      "NDMI              1.062392\n",
      "NDVI             -0.649211\n",
      "SR_B3             2.281592\n",
      "SR_B4             2.175391\n",
      "SR_B5             0.895594\n",
      "SR_B6            -0.087111\n",
      "SR_B7            -0.090423\n",
      "Fire_Observed    37.857942\n",
      "dtype: float64\n"
     ]
    }
   ],
   "source": [
    "# Calculate skewness for the merged fire dataset\n",
    "skew_merged = merged_fire_df.skew(axis = 0, skipna = True, numeric_only=True)\n",
    "print(f\"Skewness for Merged Fires Dataset: \\n{skew_merged}\")\n",
    "\n",
    "# Calculate kurtosis for the merged fire dataset\n",
    "kurtosis_merged = merged_fire_df.kurtosis(axis = 0, skipna = True, numeric_only=True)\n",
    "print(f\"\\nKurtosis for Merged Fires Dataset: \\n{kurtosis_merged}\")"
   ]
  },
  {
   "cell_type": "markdown",
   "id": "ef471b10",
   "metadata": {},
   "source": [
    "Interpretation:\n",
    "\n",
    "Skewness values between -0.5 and 0.5 are considered relatively mild. While some variables show slight to moderate skewness, it's important to note that the magnitudes of skewness are not large, and the distributions can still be considered approximately symmetrical."
   ]
  },
  {
   "cell_type": "code",
   "execution_count": 39,
   "id": "7c962a48",
   "metadata": {},
   "outputs": [
    {
     "data": {
      "image/png": "[encoded data removed]",
      "text/plain": [
       "<Figure size 1500x900 with 2 Axes>"
      ]
     },
     "metadata": {},
     "output_type": "display_data"
    }
   ],
   "source": [
    "# Observe correlation\n",
    "plt.figure(figsize=(15,9))\n",
    "corr_matrix = merged_fire_df.corr().round(5)\n",
    "sns.heatmap(corr_matrix, annot=True,cmap=\"Blues\")\n",
    "plt.show()"
   ]
  },
  {
   "cell_type": "code",
   "execution_count": 40,
   "id": "03be8215",
   "metadata": {
    "scrolled": true
   },
   "outputs": [
    {
     "data": {
      "text/plain": [
       "<Axes: xlabel='NDMI_cat', ylabel='count'>"
      ]
     },
     "execution_count": 40,
     "metadata": {},
     "output_type": "execute_result"
    },
    {
     "data": {
      "image/png": "[encoded data removed]",
      "text/plain": [
       "<Figure size 640x480 with 1 Axes>"
      ]
     },
     "metadata": {},
     "output_type": "display_data"
    }
   ],
   "source": [
    "# merged_fire_df.hist([\"NDMI_cat\",\"NDVI_cat\"])\n",
    "sns.countplot(data=merged_fire_df, x=\"NDMI_cat\",palette ='plasma')"
   ]
  },
  {
   "cell_type": "code",
   "execution_count": 41,
   "id": "98bd4758",
   "metadata": {
    "scrolled": true
   },
   "outputs": [
    {
     "data": {
      "text/plain": [
       "0.2-0.3     12852922\n",
       "0.1-0.2      5656299\n",
       "0.3-0.4      1193214\n",
       "0.0-0.1       220181\n",
       "0.4-0.5        56152\n",
       "Name: NDMI_cat, dtype: int64"
      ]
     },
     "execution_count": 41,
     "metadata": {},
     "output_type": "execute_result"
    }
   ],
   "source": [
    "merged_fire_df[\"NDMI_cat\"].value_counts()"
   ]
  },
  {
   "cell_type": "markdown",
   "id": "b4f9fa3f",
   "metadata": {},
   "source": [
    "This reveals that the highest number of occurrences lies within the NDMI range of 0.2-0.3, totaling 12,852,922 instances. This abundance suggests widespread areas with moderate moisture levels. Conversely, the NDMI range of 0.4-0.5 has the lowest occurrences, specifically 56,152 instances, indicating relatively infrequent instances of high moisture content in the surveyed area."
   ]
  },
  {
   "cell_type": "code",
   "execution_count": 42,
   "id": "33e8156f",
   "metadata": {},
   "outputs": [
    {
     "data": {
      "text/plain": [
       "<Axes: xlabel='NDVI_cat', ylabel='count'>"
      ]
     },
     "execution_count": 42,
     "metadata": {},
     "output_type": "execute_result"
    },
    {
     "data": {
      "image/png": "[encoded data removed]",
      "text/plain": [
       "<Figure size 640x480 with 1 Axes>"
      ]
     },
     "metadata": {},
     "output_type": "display_data"
    }
   ],
   "source": [
    "sns.countplot(data=merged_fire_df, x=\"NDVI_cat\",palette ='plasma')"
   ]
  },
  {
   "cell_type": "code",
   "execution_count": 43,
   "id": "123cd805",
   "metadata": {},
   "outputs": [
    {
     "data": {
      "text/plain": [
       "0.0-0.1      6890479\n",
       "0.1-0.2      6152015\n",
       "0.2-0.3      4332292\n",
       "-0.1-0.0     1663115\n",
       "0.3-0.4       886051\n",
       "0.4-0.5        53217\n",
       "-0.2--0.1       1288\n",
       "Name: NDVI_cat, dtype: int64"
      ]
     },
     "execution_count": 43,
     "metadata": {},
     "output_type": "execute_result"
    }
   ],
   "source": [
    "merged_fire_df[\"NDVI_cat\"].value_counts()"
   ]
  },
  {
   "cell_type": "markdown",
   "id": "18c35a30",
   "metadata": {},
   "source": [
    "This indicates that the majority of occurrences fall within the NDVI range of 0.0-0.1, with 6,890,479 instances, suggesting prevalent areas with sparse or low vegetation cover. In contrast, the NDVI range of 0.4-0.5 has the fewest occurrences (53,217), indicating relatively rare instances of extremely dense and healthy vegetation in the surveyed area."
   ]
  },
  {
   "cell_type": "code",
   "execution_count": 44,
   "id": "b74e8afa",
   "metadata": {},
   "outputs": [
    {
     "name": "stderr",
     "output_type": "stream",
     "text": [
      "/var/folders/x7/1gcbhmr10f7g5kddms1rsng80000gn/T/ipykernel_99517/874131092.py:2: SettingWithCopyWarning: \n",
      "A value is trying to be set on a copy of a slice from a DataFrame\n",
      "\n",
      "See the caveats in the documentation: https://pandas.pydata.org/pandas-docs/stable/user_guide/indexing.html#returning-a-view-versus-a-copy\n",
      "  merged_fire_df.drop(['NDMI_cat','NDVI_cat'], axis=1, inplace = True)\n"
     ]
    }
   ],
   "source": [
    "# Remove NDMI_cat and NDVI_cat\n",
    "merged_fire_df.drop(['NDMI_cat','NDVI_cat'], axis=1, inplace = True)"
   ]
  },
  {
   "cell_type": "code",
   "execution_count": 45,
   "id": "b1e47b69",
   "metadata": {
    "scrolled": false
   },
   "outputs": [
    {
     "name": "stderr",
     "output_type": "stream",
     "text": [
      "/var/folders/x7/1gcbhmr10f7g5kddms1rsng80000gn/T/ipykernel_99517/973721024.py:5: SettingWithCopyWarning: \n",
      "A value is trying to be set on a copy of a slice from a DataFrame.\n",
      "Try using .loc[row_indexer,col_indexer] = value instead\n",
      "\n",
      "See the caveats in the documentation: https://pandas.pydata.org/pandas-docs/stable/user_guide/indexing.html#returning-a-view-versus-a-copy\n",
      "  merged_fire_df.iloc[:,0:-1] = scaler.fit_transform(merged_fire_df.iloc[:,0:-1].to_numpy() )\n"
     ]
    }
   ],
   "source": [
    "# Normalize the data\n",
    "from sklearn.preprocessing import StandardScaler\n",
    "\n",
    "scaler = StandardScaler()\n",
    "merged_fire_df.iloc[:,0:-1] = scaler.fit_transform(merged_fire_df.iloc[:,0:-1].to_numpy() )"
   ]
  },
  {
   "cell_type": "code",
   "execution_count": 117,
   "id": "63b8f41a",
   "metadata": {},
   "outputs": [],
   "source": [
    "# writing the merged dataframe to an csv file that we will use in our interactive Streamlit webpage \n",
    "# with a focus on data visualization. \n",
    "\n",
    "merged_fire_df.to_csv('Data3/merged_fire.csv', index=False)"
   ]
  },
  {
   "cell_type": "markdown",
   "id": "6b66888b",
   "metadata": {},
   "source": [
    "# <font color=\"#115081\">  Machine Learning Section- Model Selection</font>"
   ]
  },
  {
   "cell_type": "code",
   "execution_count": 47,
   "id": "6dd174da",
   "metadata": {},
   "outputs": [],
   "source": [
    "# Splitting the merged dataframe into input and output\n",
    "\n",
    "x, y = merged_fire_df.iloc[:, :-1], merged_fire_df.iloc[:, -1]"
   ]
  },
  {
   "cell_type": "code",
   "execution_count": 48,
   "id": "3abef1e3",
   "metadata": {},
   "outputs": [],
   "source": [
    "# Train-Test split using Stratification\n",
    "from sklearn.model_selection import train_test_split\n",
    "\n",
    "x_train, x_test, y_train, y_test = train_test_split(x, y, test_size=0.30, random_state=42, stratify=y)"
   ]
  },
  {
   "cell_type": "code",
   "execution_count": 49,
   "id": "ac26de06",
   "metadata": {},
   "outputs": [
    {
     "data": {
      "text/html": [
       "<div>\n",
       "<style scoped>\n",
       "    .dataframe tbody tr th:only-of-type {\n",
       "        vertical-align: middle;\n",
       "    }\n",
       "\n",
       "    .dataframe tbody tr th {\n",
       "        vertical-align: top;\n",
       "    }\n",
       "\n",
       "    .dataframe thead th {\n",
       "        text-align: right;\n",
       "    }\n",
       "</style>\n",
       "<table border=\"1\" class=\"dataframe\">\n",
       "  <thead>\n",
       "    <tr style=\"text-align: right;\">\n",
       "      <th></th>\n",
       "      <th>NBR.x</th>\n",
       "      <th>NBR.y</th>\n",
       "      <th>NDMI</th>\n",
       "      <th>NDVI</th>\n",
       "      <th>SR_B3</th>\n",
       "      <th>SR_B4</th>\n",
       "      <th>SR_B5</th>\n",
       "      <th>SR_B6</th>\n",
       "      <th>SR_B7</th>\n",
       "    </tr>\n",
       "  </thead>\n",
       "  <tbody>\n",
       "    <tr>\n",
       "      <th>14064280</th>\n",
       "      <td>-0.171960</td>\n",
       "      <td>0.637165</td>\n",
       "      <td>-0.488243</td>\n",
       "      <td>-1.143262</td>\n",
       "      <td>0.114640</td>\n",
       "      <td>0.088629</td>\n",
       "      <td>-0.419714</td>\n",
       "      <td>-0.552064</td>\n",
       "      <td>-0.453448</td>\n",
       "    </tr>\n",
       "    <tr>\n",
       "      <th>2129571</th>\n",
       "      <td>-0.027464</td>\n",
       "      <td>0.502264</td>\n",
       "      <td>0.100375</td>\n",
       "      <td>-0.372878</td>\n",
       "      <td>-0.058332</td>\n",
       "      <td>-0.120653</td>\n",
       "      <td>-0.343635</td>\n",
       "      <td>-0.703401</td>\n",
       "      <td>-0.479608</td>\n",
       "    </tr>\n",
       "    <tr>\n",
       "      <th>5290487</th>\n",
       "      <td>-0.325565</td>\n",
       "      <td>-0.356161</td>\n",
       "      <td>-0.199385</td>\n",
       "      <td>-0.554946</td>\n",
       "      <td>-0.027657</td>\n",
       "      <td>-0.067220</td>\n",
       "      <td>0.174904</td>\n",
       "      <td>0.649931</td>\n",
       "      <td>0.779049</td>\n",
       "    </tr>\n",
       "    <tr>\n",
       "      <th>15018049</th>\n",
       "      <td>-3.140919</td>\n",
       "      <td>-0.263611</td>\n",
       "      <td>-3.139359</td>\n",
       "      <td>-1.064951</td>\n",
       "      <td>-1.230853</td>\n",
       "      <td>-1.391422</td>\n",
       "      <td>-2.655639</td>\n",
       "      <td>-2.180677</td>\n",
       "      <td>-1.904175</td>\n",
       "    </tr>\n",
       "    <tr>\n",
       "      <th>567616</th>\n",
       "      <td>-1.164661</td>\n",
       "      <td>-1.123761</td>\n",
       "      <td>-1.652000</td>\n",
       "      <td>-0.121552</td>\n",
       "      <td>-0.187172</td>\n",
       "      <td>0.014609</td>\n",
       "      <td>-0.147884</td>\n",
       "      <td>1.514212</td>\n",
       "      <td>1.198215</td>\n",
       "    </tr>\n",
       "    <tr>\n",
       "      <th>...</th>\n",
       "      <td>...</td>\n",
       "      <td>...</td>\n",
       "      <td>...</td>\n",
       "      <td>...</td>\n",
       "      <td>...</td>\n",
       "      <td>...</td>\n",
       "      <td>...</td>\n",
       "      <td>...</td>\n",
       "      <td>...</td>\n",
       "    </tr>\n",
       "    <tr>\n",
       "      <th>16931617</th>\n",
       "      <td>-1.751300</td>\n",
       "      <td>-1.825107</td>\n",
       "      <td>-1.593534</td>\n",
       "      <td>1.217647</td>\n",
       "      <td>-1.258118</td>\n",
       "      <td>-1.249947</td>\n",
       "      <td>-1.344599</td>\n",
       "      <td>-0.193175</td>\n",
       "      <td>-0.486574</td>\n",
       "    </tr>\n",
       "    <tr>\n",
       "      <th>7271339</th>\n",
       "      <td>1.810592</td>\n",
       "      <td>1.331516</td>\n",
       "      <td>1.516265</td>\n",
       "      <td>-1.410939</td>\n",
       "      <td>2.068636</td>\n",
       "      <td>2.038753</td>\n",
       "      <td>2.630289</td>\n",
       "      <td>1.996997</td>\n",
       "      <td>1.995263</td>\n",
       "    </tr>\n",
       "    <tr>\n",
       "      <th>5147172</th>\n",
       "      <td>0.385297</td>\n",
       "      <td>0.029201</td>\n",
       "      <td>0.347779</td>\n",
       "      <td>1.248144</td>\n",
       "      <td>-0.657810</td>\n",
       "      <td>-0.688472</td>\n",
       "      <td>-0.599892</td>\n",
       "      <td>-1.298015</td>\n",
       "      <td>-1.359874</td>\n",
       "    </tr>\n",
       "    <tr>\n",
       "      <th>15682336</th>\n",
       "      <td>-1.183919</td>\n",
       "      <td>-0.888542</td>\n",
       "      <td>-0.773887</td>\n",
       "      <td>0.504384</td>\n",
       "      <td>-0.654420</td>\n",
       "      <td>-0.658898</td>\n",
       "      <td>-0.721285</td>\n",
       "      <td>-0.003580</td>\n",
       "      <td>0.119194</td>\n",
       "    </tr>\n",
       "    <tr>\n",
       "      <th>19797467</th>\n",
       "      <td>0.746700</td>\n",
       "      <td>1.202783</td>\n",
       "      <td>1.144221</td>\n",
       "      <td>-0.246665</td>\n",
       "      <td>0.485009</td>\n",
       "      <td>0.439791</td>\n",
       "      <td>0.377963</td>\n",
       "      <td>-0.671432</td>\n",
       "      <td>-0.140635</td>\n",
       "    </tr>\n",
       "  </tbody>\n",
       "</table>\n",
       "<p>13985143 rows × 9 columns</p>\n",
       "</div>"
      ],
      "text/plain": [
       "             NBR.x     NBR.y      NDMI      NDVI     SR_B3     SR_B4  \\\n",
       "14064280 -0.171960  0.637165 -0.488243 -1.143262  0.114640  0.088629   \n",
       "2129571  -0.027464  0.502264  0.100375 -0.372878 -0.058332 -0.120653   \n",
       "5290487  -0.325565 -0.356161 -0.199385 -0.554946 -0.027657 -0.067220   \n",
       "15018049 -3.140919 -0.263611 -3.139359 -1.064951 -1.230853 -1.391422   \n",
       "567616   -1.164661 -1.123761 -1.652000 -0.121552 -0.187172  0.014609   \n",
       "...            ...       ...       ...       ...       ...       ...   \n",
       "16931617 -1.751300 -1.825107 -1.593534  1.217647 -1.258118 -1.249947   \n",
       "7271339   1.810592  1.331516  1.516265 -1.410939  2.068636  2.038753   \n",
       "5147172   0.385297  0.029201  0.347779  1.248144 -0.657810 -0.688472   \n",
       "15682336 -1.183919 -0.888542 -0.773887  0.504384 -0.654420 -0.658898   \n",
       "19797467  0.746700  1.202783  1.144221 -0.246665  0.485009  0.439791   \n",
       "\n",
       "             SR_B5     SR_B6     SR_B7  \n",
       "14064280 -0.419714 -0.552064 -0.453448  \n",
       "2129571  -0.343635 -0.703401 -0.479608  \n",
       "5290487   0.174904  0.649931  0.779049  \n",
       "15018049 -2.655639 -2.180677 -1.904175  \n",
       "567616   -0.147884  1.514212  1.198215  \n",
       "...            ...       ...       ...  \n",
       "16931617 -1.344599 -0.193175 -0.486574  \n",
       "7271339   2.630289  1.996997  1.995263  \n",
       "5147172  -0.599892 -1.298015 -1.359874  \n",
       "15682336 -0.721285 -0.003580  0.119194  \n",
       "19797467  0.377963 -0.671432 -0.140635  \n",
       "\n",
       "[13985143 rows x 9 columns]"
      ]
     },
     "execution_count": 49,
     "metadata": {},
     "output_type": "execute_result"
    }
   ],
   "source": [
    "x_train"
   ]
  },
  {
   "cell_type": "code",
   "execution_count": 50,
   "id": "bc33ff62",
   "metadata": {},
   "outputs": [
    {
     "data": {
      "text/html": [
       "<div>\n",
       "<style scoped>\n",
       "    .dataframe tbody tr th:only-of-type {\n",
       "        vertical-align: middle;\n",
       "    }\n",
       "\n",
       "    .dataframe tbody tr th {\n",
       "        vertical-align: top;\n",
       "    }\n",
       "\n",
       "    .dataframe thead th {\n",
       "        text-align: right;\n",
       "    }\n",
       "</style>\n",
       "<table border=\"1\" class=\"dataframe\">\n",
       "  <thead>\n",
       "    <tr style=\"text-align: right;\">\n",
       "      <th></th>\n",
       "      <th>NBR.x</th>\n",
       "      <th>NBR.y</th>\n",
       "      <th>NDMI</th>\n",
       "      <th>NDVI</th>\n",
       "      <th>SR_B3</th>\n",
       "      <th>SR_B4</th>\n",
       "      <th>SR_B5</th>\n",
       "      <th>SR_B6</th>\n",
       "      <th>SR_B7</th>\n",
       "    </tr>\n",
       "  </thead>\n",
       "  <tbody>\n",
       "    <tr>\n",
       "      <th>5084092</th>\n",
       "      <td>0.960982</td>\n",
       "      <td>1.951717</td>\n",
       "      <td>1.334463</td>\n",
       "      <td>-1.430405</td>\n",
       "      <td>2.564063</td>\n",
       "      <td>2.541948</td>\n",
       "      <td>1.986933</td>\n",
       "      <td>1.711377</td>\n",
       "      <td>2.180417</td>\n",
       "    </tr>\n",
       "    <tr>\n",
       "      <th>3068544</th>\n",
       "      <td>0.246525</td>\n",
       "      <td>1.144485</td>\n",
       "      <td>0.290350</td>\n",
       "      <td>-1.425212</td>\n",
       "      <td>1.080586</td>\n",
       "      <td>1.043763</td>\n",
       "      <td>0.617452</td>\n",
       "      <td>0.516069</td>\n",
       "      <td>0.854042</td>\n",
       "    </tr>\n",
       "    <tr>\n",
       "      <th>8103939</th>\n",
       "      <td>2.150181</td>\n",
       "      <td>2.686677</td>\n",
       "      <td>2.265129</td>\n",
       "      <td>-1.895908</td>\n",
       "      <td>2.422301</td>\n",
       "      <td>2.374784</td>\n",
       "      <td>1.949748</td>\n",
       "      <td>0.192011</td>\n",
       "      <td>0.553292</td>\n",
       "    </tr>\n",
       "    <tr>\n",
       "      <th>17307695</th>\n",
       "      <td>-0.352997</td>\n",
       "      <td>-0.529766</td>\n",
       "      <td>-0.918595</td>\n",
       "      <td>0.299873</td>\n",
       "      <td>0.065969</td>\n",
       "      <td>0.117466</td>\n",
       "      <td>0.195823</td>\n",
       "      <td>1.142405</td>\n",
       "      <td>0.849598</td>\n",
       "    </tr>\n",
       "    <tr>\n",
       "      <th>13815539</th>\n",
       "      <td>1.731055</td>\n",
       "      <td>0.683374</td>\n",
       "      <td>1.480636</td>\n",
       "      <td>-0.684492</td>\n",
       "      <td>0.369570</td>\n",
       "      <td>0.318447</td>\n",
       "      <td>0.883910</td>\n",
       "      <td>-0.117163</td>\n",
       "      <td>-0.493105</td>\n",
       "    </tr>\n",
       "    <tr>\n",
       "      <th>...</th>\n",
       "      <td>...</td>\n",
       "      <td>...</td>\n",
       "      <td>...</td>\n",
       "      <td>...</td>\n",
       "      <td>...</td>\n",
       "      <td>...</td>\n",
       "      <td>...</td>\n",
       "      <td>...</td>\n",
       "      <td>...</td>\n",
       "    </tr>\n",
       "    <tr>\n",
       "      <th>14032463</th>\n",
       "      <td>0.765400</td>\n",
       "      <td>0.667756</td>\n",
       "      <td>0.063558</td>\n",
       "      <td>-0.775027</td>\n",
       "      <td>0.781766</td>\n",
       "      <td>0.843712</td>\n",
       "      <td>0.767133</td>\n",
       "      <td>0.719815</td>\n",
       "      <td>0.469636</td>\n",
       "    </tr>\n",
       "    <tr>\n",
       "      <th>11114810</th>\n",
       "      <td>0.398763</td>\n",
       "      <td>0.092462</td>\n",
       "      <td>0.177165</td>\n",
       "      <td>0.420687</td>\n",
       "      <td>-0.213636</td>\n",
       "      <td>-0.199149</td>\n",
       "      <td>-0.127150</td>\n",
       "      <td>-0.435939</td>\n",
       "      <td>-0.580973</td>\n",
       "    </tr>\n",
       "    <tr>\n",
       "      <th>4163666</th>\n",
       "      <td>-0.623398</td>\n",
       "      <td>-0.425847</td>\n",
       "      <td>-0.620324</td>\n",
       "      <td>-0.639627</td>\n",
       "      <td>0.155911</td>\n",
       "      <td>0.130484</td>\n",
       "      <td>0.189628</td>\n",
       "      <td>1.178636</td>\n",
       "      <td>1.168389</td>\n",
       "    </tr>\n",
       "    <tr>\n",
       "      <th>11845083</th>\n",
       "      <td>0.453931</td>\n",
       "      <td>0.164514</td>\n",
       "      <td>0.992249</td>\n",
       "      <td>0.106584</td>\n",
       "      <td>0.160311</td>\n",
       "      <td>0.145427</td>\n",
       "      <td>0.577092</td>\n",
       "      <td>0.249066</td>\n",
       "      <td>0.533469</td>\n",
       "    </tr>\n",
       "    <tr>\n",
       "      <th>13130323</th>\n",
       "      <td>-2.050669</td>\n",
       "      <td>-1.655022</td>\n",
       "      <td>-1.758734</td>\n",
       "      <td>0.873243</td>\n",
       "      <td>-1.422615</td>\n",
       "      <td>-1.412497</td>\n",
       "      <td>-1.766329</td>\n",
       "      <td>-0.874156</td>\n",
       "      <td>-1.037025</td>\n",
       "    </tr>\n",
       "  </tbody>\n",
       "</table>\n",
       "<p>5993633 rows × 9 columns</p>\n",
       "</div>"
      ],
      "text/plain": [
       "             NBR.x     NBR.y      NDMI      NDVI     SR_B3     SR_B4  \\\n",
       "5084092   0.960982  1.951717  1.334463 -1.430405  2.564063  2.541948   \n",
       "3068544   0.246525  1.144485  0.290350 -1.425212  1.080586  1.043763   \n",
       "8103939   2.150181  2.686677  2.265129 -1.895908  2.422301  2.374784   \n",
       "17307695 -0.352997 -0.529766 -0.918595  0.299873  0.065969  0.117466   \n",
       "13815539  1.731055  0.683374  1.480636 -0.684492  0.369570  0.318447   \n",
       "...            ...       ...       ...       ...       ...       ...   \n",
       "14032463  0.765400  0.667756  0.063558 -0.775027  0.781766  0.843712   \n",
       "11114810  0.398763  0.092462  0.177165  0.420687 -0.213636 -0.199149   \n",
       "4163666  -0.623398 -0.425847 -0.620324 -0.639627  0.155911  0.130484   \n",
       "11845083  0.453931  0.164514  0.992249  0.106584  0.160311  0.145427   \n",
       "13130323 -2.050669 -1.655022 -1.758734  0.873243 -1.422615 -1.412497   \n",
       "\n",
       "             SR_B5     SR_B6     SR_B7  \n",
       "5084092   1.986933  1.711377  2.180417  \n",
       "3068544   0.617452  0.516069  0.854042  \n",
       "8103939   1.949748  0.192011  0.553292  \n",
       "17307695  0.195823  1.142405  0.849598  \n",
       "13815539  0.883910 -0.117163 -0.493105  \n",
       "...            ...       ...       ...  \n",
       "14032463  0.767133  0.719815  0.469636  \n",
       "11114810 -0.127150 -0.435939 -0.580973  \n",
       "4163666   0.189628  1.178636  1.168389  \n",
       "11845083  0.577092  0.249066  0.533469  \n",
       "13130323 -1.766329 -0.874156 -1.037025  \n",
       "\n",
       "[5993633 rows x 9 columns]"
      ]
     },
     "execution_count": 50,
     "metadata": {},
     "output_type": "execute_result"
    }
   ],
   "source": [
    "x_test"
   ]
  },
  {
   "cell_type": "code",
   "execution_count": 51,
   "id": "f9a8079e",
   "metadata": {},
   "outputs": [
    {
     "name": "stdout",
     "output_type": "stream",
     "text": [
      "0    13658647\n",
      "1      326496\n",
      "Name: Fire_Observed, dtype: int64\n"
     ]
    }
   ],
   "source": [
    "# Checking the distribution of Fire_Observed columns in the training set, 1 = Fire and 0 = No_Fire\n",
    "\n",
    "print(y_train.value_counts())"
   ]
  },
  {
   "cell_type": "code",
   "execution_count": 52,
   "id": "2fca233a",
   "metadata": {},
   "outputs": [
    {
     "name": "stdout",
     "output_type": "stream",
     "text": [
      "0    5853706\n",
      "1     139927\n",
      "Name: Fire_Observed, dtype: int64\n"
     ]
    }
   ],
   "source": [
    "# Checking the distribution of Fire_Observed columns in the test set, 1 = Fire and 0 = No_Fire\n",
    "\n",
    "print(y_test.value_counts())"
   ]
  },
  {
   "cell_type": "code",
   "execution_count": 53,
   "id": "1d050437",
   "metadata": {},
   "outputs": [],
   "source": [
    "# Training Set\n",
    "train_df = pd.concat([x_train, y_train], axis=1)"
   ]
  },
  {
   "cell_type": "code",
   "execution_count": 54,
   "id": "c66c0194",
   "metadata": {
    "scrolled": false
   },
   "outputs": [
    {
     "data": {
      "text/html": [
       "<div>\n",
       "<style scoped>\n",
       "    .dataframe tbody tr th:only-of-type {\n",
       "        vertical-align: middle;\n",
       "    }\n",
       "\n",
       "    .dataframe tbody tr th {\n",
       "        vertical-align: top;\n",
       "    }\n",
       "\n",
       "    .dataframe thead th {\n",
       "        text-align: right;\n",
       "    }\n",
       "</style>\n",
       "<table border=\"1\" class=\"dataframe\">\n",
       "  <thead>\n",
       "    <tr style=\"text-align: right;\">\n",
       "      <th></th>\n",
       "      <th>NBR.x</th>\n",
       "      <th>NBR.y</th>\n",
       "      <th>NDMI</th>\n",
       "      <th>NDVI</th>\n",
       "      <th>SR_B3</th>\n",
       "      <th>SR_B4</th>\n",
       "      <th>SR_B5</th>\n",
       "      <th>SR_B6</th>\n",
       "      <th>SR_B7</th>\n",
       "      <th>Fire_Observed</th>\n",
       "    </tr>\n",
       "  </thead>\n",
       "  <tbody>\n",
       "    <tr>\n",
       "      <th>14064280</th>\n",
       "      <td>-0.171960</td>\n",
       "      <td>0.637165</td>\n",
       "      <td>-0.488243</td>\n",
       "      <td>-1.143262</td>\n",
       "      <td>0.114640</td>\n",
       "      <td>0.088629</td>\n",
       "      <td>-0.419714</td>\n",
       "      <td>-0.552064</td>\n",
       "      <td>-0.453448</td>\n",
       "      <td>0</td>\n",
       "    </tr>\n",
       "    <tr>\n",
       "      <th>2129571</th>\n",
       "      <td>-0.027464</td>\n",
       "      <td>0.502264</td>\n",
       "      <td>0.100375</td>\n",
       "      <td>-0.372878</td>\n",
       "      <td>-0.058332</td>\n",
       "      <td>-0.120653</td>\n",
       "      <td>-0.343635</td>\n",
       "      <td>-0.703401</td>\n",
       "      <td>-0.479608</td>\n",
       "      <td>0</td>\n",
       "    </tr>\n",
       "    <tr>\n",
       "      <th>5290487</th>\n",
       "      <td>-0.325565</td>\n",
       "      <td>-0.356161</td>\n",
       "      <td>-0.199385</td>\n",
       "      <td>-0.554946</td>\n",
       "      <td>-0.027657</td>\n",
       "      <td>-0.067220</td>\n",
       "      <td>0.174904</td>\n",
       "      <td>0.649931</td>\n",
       "      <td>0.779049</td>\n",
       "      <td>0</td>\n",
       "    </tr>\n",
       "    <tr>\n",
       "      <th>15018049</th>\n",
       "      <td>-3.140919</td>\n",
       "      <td>-0.263611</td>\n",
       "      <td>-3.139359</td>\n",
       "      <td>-1.064951</td>\n",
       "      <td>-1.230853</td>\n",
       "      <td>-1.391422</td>\n",
       "      <td>-2.655639</td>\n",
       "      <td>-2.180677</td>\n",
       "      <td>-1.904175</td>\n",
       "      <td>0</td>\n",
       "    </tr>\n",
       "    <tr>\n",
       "      <th>567616</th>\n",
       "      <td>-1.164661</td>\n",
       "      <td>-1.123761</td>\n",
       "      <td>-1.652000</td>\n",
       "      <td>-0.121552</td>\n",
       "      <td>-0.187172</td>\n",
       "      <td>0.014609</td>\n",
       "      <td>-0.147884</td>\n",
       "      <td>1.514212</td>\n",
       "      <td>1.198215</td>\n",
       "      <td>0</td>\n",
       "    </tr>\n",
       "    <tr>\n",
       "      <th>...</th>\n",
       "      <td>...</td>\n",
       "      <td>...</td>\n",
       "      <td>...</td>\n",
       "      <td>...</td>\n",
       "      <td>...</td>\n",
       "      <td>...</td>\n",
       "      <td>...</td>\n",
       "      <td>...</td>\n",
       "      <td>...</td>\n",
       "      <td>...</td>\n",
       "    </tr>\n",
       "    <tr>\n",
       "      <th>16931617</th>\n",
       "      <td>-1.751300</td>\n",
       "      <td>-1.825107</td>\n",
       "      <td>-1.593534</td>\n",
       "      <td>1.217647</td>\n",
       "      <td>-1.258118</td>\n",
       "      <td>-1.249947</td>\n",
       "      <td>-1.344599</td>\n",
       "      <td>-0.193175</td>\n",
       "      <td>-0.486574</td>\n",
       "      <td>0</td>\n",
       "    </tr>\n",
       "    <tr>\n",
       "      <th>7271339</th>\n",
       "      <td>1.810592</td>\n",
       "      <td>1.331516</td>\n",
       "      <td>1.516265</td>\n",
       "      <td>-1.410939</td>\n",
       "      <td>2.068636</td>\n",
       "      <td>2.038753</td>\n",
       "      <td>2.630289</td>\n",
       "      <td>1.996997</td>\n",
       "      <td>1.995263</td>\n",
       "      <td>0</td>\n",
       "    </tr>\n",
       "    <tr>\n",
       "      <th>5147172</th>\n",
       "      <td>0.385297</td>\n",
       "      <td>0.029201</td>\n",
       "      <td>0.347779</td>\n",
       "      <td>1.248144</td>\n",
       "      <td>-0.657810</td>\n",
       "      <td>-0.688472</td>\n",
       "      <td>-0.599892</td>\n",
       "      <td>-1.298015</td>\n",
       "      <td>-1.359874</td>\n",
       "      <td>0</td>\n",
       "    </tr>\n",
       "    <tr>\n",
       "      <th>15682336</th>\n",
       "      <td>-1.183919</td>\n",
       "      <td>-0.888542</td>\n",
       "      <td>-0.773887</td>\n",
       "      <td>0.504384</td>\n",
       "      <td>-0.654420</td>\n",
       "      <td>-0.658898</td>\n",
       "      <td>-0.721285</td>\n",
       "      <td>-0.003580</td>\n",
       "      <td>0.119194</td>\n",
       "      <td>0</td>\n",
       "    </tr>\n",
       "    <tr>\n",
       "      <th>19797467</th>\n",
       "      <td>0.746700</td>\n",
       "      <td>1.202783</td>\n",
       "      <td>1.144221</td>\n",
       "      <td>-0.246665</td>\n",
       "      <td>0.485009</td>\n",
       "      <td>0.439791</td>\n",
       "      <td>0.377963</td>\n",
       "      <td>-0.671432</td>\n",
       "      <td>-0.140635</td>\n",
       "      <td>0</td>\n",
       "    </tr>\n",
       "  </tbody>\n",
       "</table>\n",
       "<p>13985143 rows × 10 columns</p>\n",
       "</div>"
      ],
      "text/plain": [
       "             NBR.x     NBR.y      NDMI      NDVI     SR_B3     SR_B4  \\\n",
       "14064280 -0.171960  0.637165 -0.488243 -1.143262  0.114640  0.088629   \n",
       "2129571  -0.027464  0.502264  0.100375 -0.372878 -0.058332 -0.120653   \n",
       "5290487  -0.325565 -0.356161 -0.199385 -0.554946 -0.027657 -0.067220   \n",
       "15018049 -3.140919 -0.263611 -3.139359 -1.064951 -1.230853 -1.391422   \n",
       "567616   -1.164661 -1.123761 -1.652000 -0.121552 -0.187172  0.014609   \n",
       "...            ...       ...       ...       ...       ...       ...   \n",
       "16931617 -1.751300 -1.825107 -1.593534  1.217647 -1.258118 -1.249947   \n",
       "7271339   1.810592  1.331516  1.516265 -1.410939  2.068636  2.038753   \n",
       "5147172   0.385297  0.029201  0.347779  1.248144 -0.657810 -0.688472   \n",
       "15682336 -1.183919 -0.888542 -0.773887  0.504384 -0.654420 -0.658898   \n",
       "19797467  0.746700  1.202783  1.144221 -0.246665  0.485009  0.439791   \n",
       "\n",
       "             SR_B5     SR_B6     SR_B7  Fire_Observed  \n",
       "14064280 -0.419714 -0.552064 -0.453448              0  \n",
       "2129571  -0.343635 -0.703401 -0.479608              0  \n",
       "5290487   0.174904  0.649931  0.779049              0  \n",
       "15018049 -2.655639 -2.180677 -1.904175              0  \n",
       "567616   -0.147884  1.514212  1.198215              0  \n",
       "...            ...       ...       ...            ...  \n",
       "16931617 -1.344599 -0.193175 -0.486574              0  \n",
       "7271339   2.630289  1.996997  1.995263              0  \n",
       "5147172  -0.599892 -1.298015 -1.359874              0  \n",
       "15682336 -0.721285 -0.003580  0.119194              0  \n",
       "19797467  0.377963 -0.671432 -0.140635              0  \n",
       "\n",
       "[13985143 rows x 10 columns]"
      ]
     },
     "execution_count": 54,
     "metadata": {},
     "output_type": "execute_result"
    }
   ],
   "source": [
    "train_df"
   ]
  },
  {
   "cell_type": "markdown",
   "id": "c8728fbc",
   "metadata": {},
   "source": [
    "## <font color=\"#115089\">  Model Building For Classification Analysis</font>"
   ]
  },
  {
   "cell_type": "markdown",
   "id": "dce60359",
   "metadata": {},
   "source": [
    "__Logistical Regression__"
   ]
  },
  {
   "cell_type": "code",
   "execution_count": 55,
   "id": "baf609bb",
   "metadata": {},
   "outputs": [
    {
     "data": {
      "text/html": [
       "<style>#sk-container-id-1 {color: black;background-color: white;}#sk-container-id-1 pre{padding: 0;}#sk-container-id-1 div.sk-toggleable {background-color: white;}#sk-container-id-1 label.sk-toggleable__label {cursor: pointer;display: block;width: 100%;margin-bottom: 0;padding: 0.3em;box-sizing: border-box;text-align: center;}#sk-container-id-1 label.sk-toggleable__label-arrow:before {content: \"▸\";float: left;margin-right: 0.25em;color: #696969;}#sk-container-id-1 label.sk-toggleable__label-arrow:hover:before {color: black;}#sk-container-id-1 div.sk-estimator:hover label.sk-toggleable__label-arrow:before {color: black;}#sk-container-id-1 div.sk-toggleable__content {max-height: 0;max-width: 0;overflow: hidden;text-align: left;background-color: #f0f8ff;}#sk-container-id-1 div.sk-toggleable__content pre {margin: 0.2em;color: black;border-radius: 0.25em;background-color: #f0f8ff;}#sk-container-id-1 input.sk-toggleable__control:checked~div.sk-toggleable__content {max-height: 200px;max-width: 100%;overflow: auto;}#sk-container-id-1 input.sk-toggleable__control:checked~label.sk-toggleable__label-arrow:before {content: \"▾\";}#sk-container-id-1 div.sk-estimator input.sk-toggleable__control:checked~label.sk-toggleable__label {background-color: #d4ebff;}#sk-container-id-1 div.sk-label input.sk-toggleable__control:checked~label.sk-toggleable__label {background-color: #d4ebff;}#sk-container-id-1 input.sk-hidden--visually {border: 0;clip: rect(1px 1px 1px 1px);clip: rect(1px, 1px, 1px, 1px);height: 1px;margin: -1px;overflow: hidden;padding: 0;position: absolute;width: 1px;}#sk-container-id-1 div.sk-estimator {font-family: monospace;background-color: #f0f8ff;border: 1px dotted black;border-radius: 0.25em;box-sizing: border-box;margin-bottom: 0.5em;}#sk-container-id-1 div.sk-estimator:hover {background-color: #d4ebff;}#sk-container-id-1 div.sk-parallel-item::after {content: \"\";width: 100%;border-bottom: 1px solid gray;flex-grow: 1;}#sk-container-id-1 div.sk-label:hover label.sk-toggleable__label {background-color: #d4ebff;}#sk-container-id-1 div.sk-serial::before {content: \"\";position: absolute;border-left: 1px solid gray;box-sizing: border-box;top: 0;bottom: 0;left: 50%;z-index: 0;}#sk-container-id-1 div.sk-serial {display: flex;flex-direction: column;align-items: center;background-color: white;padding-right: 0.2em;padding-left: 0.2em;position: relative;}#sk-container-id-1 div.sk-item {position: relative;z-index: 1;}#sk-container-id-1 div.sk-parallel {display: flex;align-items: stretch;justify-content: center;background-color: white;position: relative;}#sk-container-id-1 div.sk-item::before, #sk-container-id-1 div.sk-parallel-item::before {content: \"\";position: absolute;border-left: 1px solid gray;box-sizing: border-box;top: 0;bottom: 0;left: 50%;z-index: -1;}#sk-container-id-1 div.sk-parallel-item {display: flex;flex-direction: column;z-index: 1;position: relative;background-color: white;}#sk-container-id-1 div.sk-parallel-item:first-child::after {align-self: flex-end;width: 50%;}#sk-container-id-1 div.sk-parallel-item:last-child::after {align-self: flex-start;width: 50%;}#sk-container-id-1 div.sk-parallel-item:only-child::after {width: 0;}#sk-container-id-1 div.sk-dashed-wrapped {border: 1px dashed gray;margin: 0 0.4em 0.5em 0.4em;box-sizing: border-box;padding-bottom: 0.4em;background-color: white;}#sk-container-id-1 div.sk-label label {font-family: monospace;font-weight: bold;display: inline-block;line-height: 1.2em;}#sk-container-id-1 div.sk-label-container {text-align: center;}#sk-container-id-1 div.sk-container {/* jupyter's `normalize.less` sets `[hidden] { display: none; }` but bootstrap.min.css set `[hidden] { display: none !important; }` so we also need the `!important` here to be able to override the default hidden behavior on the sphinx rendered scikit-learn.org. See: https://github.com/scikit-learn/scikit-learn/issues/21755 */display: inline-block !important;position: relative;}#sk-container-id-1 div.sk-text-repr-fallback {display: none;}</style><div id=\"sk-container-id-1\" class=\"sk-top-container\"><div class=\"sk-text-repr-fallback\"><pre>LogisticRegression(random_state=42, solver=&#x27;liblinear&#x27;)</pre><b>In a Jupyter environment, please rerun this cell to show the HTML representation or trust the notebook. <br />On GitHub, the HTML representation is unable to render, please try loading this page with nbviewer.org.</b></div><div class=\"sk-container\" hidden><div class=\"sk-item\"><div class=\"sk-estimator sk-toggleable\"><input class=\"sk-toggleable__control sk-hidden--visually\" id=\"sk-estimator-id-1\" type=\"checkbox\" checked><label for=\"sk-estimator-id-1\" class=\"sk-toggleable__label sk-toggleable__label-arrow\">LogisticRegression</label><div class=\"sk-toggleable__content\"><pre>LogisticRegression(random_state=42, solver=&#x27;liblinear&#x27;)</pre></div></div></div></div></div>"
      ],
      "text/plain": [
       "LogisticRegression(random_state=42, solver='liblinear')"
      ]
     },
     "execution_count": 55,
     "metadata": {},
     "output_type": "execute_result"
    }
   ],
   "source": [
    "from sklearn.linear_model import LogisticRegression\n",
    "\n",
    "logistical_reg = LogisticRegression(random_state=42, solver='liblinear')\n",
    "logistical_reg.fit(x_train, y_train)"
   ]
  },
  {
   "cell_type": "code",
   "execution_count": 104,
   "id": "24360989",
   "metadata": {},
   "outputs": [
    {
     "name": "stdout",
     "output_type": "stream",
     "text": [
      "accuracy score: 0.9765057353361476\n",
      "classifcation report : \n",
      "                precision    recall  f1-score   support\n",
      "\n",
      "           0       0.98      1.00      0.99   5853706\n",
      "           1       0.11      0.00      0.00    139927\n",
      "\n",
      "    accuracy                           0.98   5993633\n",
      "   macro avg       0.54      0.50      0.49   5993633\n",
      "weighted avg       0.96      0.98      0.97   5993633\n",
      "\n"
     ]
    }
   ],
   "source": [
    "from sklearn.metrics import accuracy_score, classification_report\n",
    "\n",
    "#Predict the response for test dataset\n",
    "y_pred = logistical_reg.predict(x_test)\n",
    "\n",
    "# View accuracy score, mean absolute error and classification report\n",
    "accuracy_log = accuracy_score(y_test, y_pred)\n",
    "classification_report_log = classification_report(y_test,y_pred)\n",
    "\n",
    "print(f'accuracy score: {accuracy_log}')\n",
    "print(f'classifcation report : \\n  {classification_report_log}')"
   ]
  },
  {
   "cell_type": "code",
   "execution_count": 57,
   "id": "6a973878",
   "metadata": {},
   "outputs": [
    {
     "data": {
      "text/plain": [
       "array([[5852689,    1017],\n",
       "       [ 139799,     128]])"
      ]
     },
     "execution_count": 57,
     "metadata": {},
     "output_type": "execute_result"
    }
   ],
   "source": [
    "from sklearn.metrics import confusion_matrix, ConfusionMatrixDisplay\n",
    "\n",
    "# View confusion matrix for test data and predictions\n",
    "log_cm  = confusion_matrix(y_test,y_pred)\n",
    "log_cm"
   ]
  },
  {
   "cell_type": "code",
   "execution_count": 58,
   "id": "871de6d1",
   "metadata": {
    "scrolled": false
   },
   "outputs": [
    {
     "data": {
      "image/png": "[encoded data removed]",
      "text/plain": [
       "<Figure size 640x480 with 2 Axes>"
      ]
     },
     "metadata": {},
     "output_type": "display_data"
    }
   ],
   "source": [
    "display = ConfusionMatrixDisplay(confusion_matrix=log_cm, display_labels=logistical_reg.classes_)\n",
    "display.plot();"
   ]
  },
  {
   "cell_type": "markdown",
   "id": "a96ef9c6",
   "metadata": {},
   "source": [
    "Restoring connection forthis results sfs mk\n",
    "kjn\n",
    " n. fnjnsdlsn"
   ]
  },
  {
   "cell_type": "markdown",
   "id": "29fadcdc",
   "metadata": {},
   "source": [
    "__Random Forest Classifier__"
   ]
  },
  {
   "cell_type": "code",
   "execution_count": 96,
   "id": "63024674",
   "metadata": {},
   "outputs": [
    {
     "data": {
      "text/html": [
       "<style>#sk-container-id-5 {color: black;background-color: white;}#sk-container-id-5 pre{padding: 0;}#sk-container-id-5 div.sk-toggleable {background-color: white;}#sk-container-id-5 label.sk-toggleable__label {cursor: pointer;display: block;width: 100%;margin-bottom: 0;padding: 0.3em;box-sizing: border-box;text-align: center;}#sk-container-id-5 label.sk-toggleable__label-arrow:before {content: \"▸\";float: left;margin-right: 0.25em;color: #696969;}#sk-container-id-5 label.sk-toggleable__label-arrow:hover:before {color: black;}#sk-container-id-5 div.sk-estimator:hover label.sk-toggleable__label-arrow:before {color: black;}#sk-container-id-5 div.sk-toggleable__content {max-height: 0;max-width: 0;overflow: hidden;text-align: left;background-color: #f0f8ff;}#sk-container-id-5 div.sk-toggleable__content pre {margin: 0.2em;color: black;border-radius: 0.25em;background-color: #f0f8ff;}#sk-container-id-5 input.sk-toggleable__control:checked~div.sk-toggleable__content {max-height: 200px;max-width: 100%;overflow: auto;}#sk-container-id-5 input.sk-toggleable__control:checked~label.sk-toggleable__label-arrow:before {content: \"▾\";}#sk-container-id-5 div.sk-estimator input.sk-toggleable__control:checked~label.sk-toggleable__label {background-color: #d4ebff;}#sk-container-id-5 div.sk-label input.sk-toggleable__control:checked~label.sk-toggleable__label {background-color: #d4ebff;}#sk-container-id-5 input.sk-hidden--visually {border: 0;clip: rect(1px 1px 1px 1px);clip: rect(1px, 1px, 1px, 1px);height: 1px;margin: -1px;overflow: hidden;padding: 0;position: absolute;width: 1px;}#sk-container-id-5 div.sk-estimator {font-family: monospace;background-color: #f0f8ff;border: 1px dotted black;border-radius: 0.25em;box-sizing: border-box;margin-bottom: 0.5em;}#sk-container-id-5 div.sk-estimator:hover {background-color: #d4ebff;}#sk-container-id-5 div.sk-parallel-item::after {content: \"\";width: 100%;border-bottom: 1px solid gray;flex-grow: 1;}#sk-container-id-5 div.sk-label:hover label.sk-toggleable__label {background-color: #d4ebff;}#sk-container-id-5 div.sk-serial::before {content: \"\";position: absolute;border-left: 1px solid gray;box-sizing: border-box;top: 0;bottom: 0;left: 50%;z-index: 0;}#sk-container-id-5 div.sk-serial {display: flex;flex-direction: column;align-items: center;background-color: white;padding-right: 0.2em;padding-left: 0.2em;position: relative;}#sk-container-id-5 div.sk-item {position: relative;z-index: 1;}#sk-container-id-5 div.sk-parallel {display: flex;align-items: stretch;justify-content: center;background-color: white;position: relative;}#sk-container-id-5 div.sk-item::before, #sk-container-id-5 div.sk-parallel-item::before {content: \"\";position: absolute;border-left: 1px solid gray;box-sizing: border-box;top: 0;bottom: 0;left: 50%;z-index: -1;}#sk-container-id-5 div.sk-parallel-item {display: flex;flex-direction: column;z-index: 1;position: relative;background-color: white;}#sk-container-id-5 div.sk-parallel-item:first-child::after {align-self: flex-end;width: 50%;}#sk-container-id-5 div.sk-parallel-item:last-child::after {align-self: flex-start;width: 50%;}#sk-container-id-5 div.sk-parallel-item:only-child::after {width: 0;}#sk-container-id-5 div.sk-dashed-wrapped {border: 1px dashed gray;margin: 0 0.4em 0.5em 0.4em;box-sizing: border-box;padding-bottom: 0.4em;background-color: white;}#sk-container-id-5 div.sk-label label {font-family: monospace;font-weight: bold;display: inline-block;line-height: 1.2em;}#sk-container-id-5 div.sk-label-container {text-align: center;}#sk-container-id-5 div.sk-container {/* jupyter's `normalize.less` sets `[hidden] { display: none; }` but bootstrap.min.css set `[hidden] { display: none !important; }` so we also need the `!important` here to be able to override the default hidden behavior on the sphinx rendered scikit-learn.org. See: https://github.com/scikit-learn/scikit-learn/issues/21755 */display: inline-block !important;position: relative;}#sk-container-id-5 div.sk-text-repr-fallback {display: none;}</style><div id=\"sk-container-id-5\" class=\"sk-top-container\"><div class=\"sk-text-repr-fallback\"><pre>RandomForestClassifier(random_state=42)</pre><b>In a Jupyter environment, please rerun this cell to show the HTML representation or trust the notebook. <br />On GitHub, the HTML representation is unable to render, please try loading this page with nbviewer.org.</b></div><div class=\"sk-container\" hidden><div class=\"sk-item\"><div class=\"sk-estimator sk-toggleable\"><input class=\"sk-toggleable__control sk-hidden--visually\" id=\"sk-estimator-id-5\" type=\"checkbox\" checked><label for=\"sk-estimator-id-5\" class=\"sk-toggleable__label sk-toggleable__label-arrow\">RandomForestClassifier</label><div class=\"sk-toggleable__content\"><pre>RandomForestClassifier(random_state=42)</pre></div></div></div></div></div>"
      ],
      "text/plain": [
       "RandomForestClassifier(random_state=42)"
      ]
     },
     "execution_count": 96,
     "metadata": {},
     "output_type": "execute_result"
    }
   ],
   "source": [
    "from sklearn.ensemble import RandomForestClassifier\n",
    "\n",
    "rfc = RandomForestClassifier(random_state=42,n_estimators=100)\n",
    "rfc.fit(x_train, y_train)"
   ]
  },
  {
   "cell_type": "code",
   "execution_count": 100,
   "id": "e39a0886",
   "metadata": {},
   "outputs": [],
   "source": [
    "# Predict the response for test dataset\n",
    "y_pred_rfc = rfc.predict(x_test)"
   ]
  },
  {
   "cell_type": "code",
   "execution_count": 105,
   "id": "dad21c4b",
   "metadata": {},
   "outputs": [
    {
     "name": "stdout",
     "output_type": "stream",
     "text": [
      "accuracy score: 0.9878127339461725\n",
      "classifcation report : \n",
      "                precision    recall  f1-score   support\n",
      "\n",
      "           0       0.99      1.00      0.99   5853706\n",
      "           1       0.97      0.50      0.66    139927\n",
      "\n",
      "    accuracy                           0.99   5993633\n",
      "   macro avg       0.98      0.75      0.82   5993633\n",
      "weighted avg       0.99      0.99      0.99   5993633\n",
      "\n"
     ]
    }
   ],
   "source": [
    "# View accuracy score, mean absolute error and classification report\n",
    "accuracy_rfc = accuracy_score(y_test, y_pred_rfc)\n",
    "classification_report_rfmc = classification_report(y_test,y_pred_rfc)\n",
    "\n",
    "print(f'accuracy score: {accuracy_rfc}')\n",
    "print(f'classifcation report : \\n  {classification_report_rfmc}')"
   ]
  },
  {
   "cell_type": "code",
   "execution_count": 106,
   "id": "7f0c8cd6",
   "metadata": {},
   "outputs": [
    {
     "data": {
      "text/plain": [
       "array([[5851236,    2470],\n",
       "       [  70576,   69351]])"
      ]
     },
     "execution_count": 106,
     "metadata": {},
     "output_type": "execute_result"
    }
   ],
   "source": [
    "# View confusion matrix for test data and predictions\n",
    "rfc_cm  = confusion_matrix(y_test,y_pred_rfc)\n",
    "rfc_cm"
   ]
  },
  {
   "cell_type": "code",
   "execution_count": 107,
   "id": "950791df",
   "metadata": {},
   "outputs": [
    {
     "data": {
      "image/png": "[encoded data removed]",
      "text/plain": [
       "<Figure size 640x480 with 2 Axes>"
      ]
     },
     "metadata": {},
     "output_type": "display_data"
    }
   ],
   "source": [
    "display_rfc = ConfusionMatrixDisplay(confusion_matrix=rfc_cm, display_labels=rfc.classes_)\n",
    "display_rfc.plot();"
   ]
  },
  {
   "cell_type": "markdown",
   "id": "cba55e4c",
   "metadata": {},
   "source": [
    "__Decision Tree Classifier__"
   ]
  },
  {
   "cell_type": "code",
   "execution_count": 108,
   "id": "51853a4a",
   "metadata": {},
   "outputs": [
    {
     "data": {
      "text/html": [
       "<style>#sk-container-id-6 {color: black;background-color: white;}#sk-container-id-6 pre{padding: 0;}#sk-container-id-6 div.sk-toggleable {background-color: white;}#sk-container-id-6 label.sk-toggleable__label {cursor: pointer;display: block;width: 100%;margin-bottom: 0;padding: 0.3em;box-sizing: border-box;text-align: center;}#sk-container-id-6 label.sk-toggleable__label-arrow:before {content: \"▸\";float: left;margin-right: 0.25em;color: #696969;}#sk-container-id-6 label.sk-toggleable__label-arrow:hover:before {color: black;}#sk-container-id-6 div.sk-estimator:hover label.sk-toggleable__label-arrow:before {color: black;}#sk-container-id-6 div.sk-toggleable__content {max-height: 0;max-width: 0;overflow: hidden;text-align: left;background-color: #f0f8ff;}#sk-container-id-6 div.sk-toggleable__content pre {margin: 0.2em;color: black;border-radius: 0.25em;background-color: #f0f8ff;}#sk-container-id-6 input.sk-toggleable__control:checked~div.sk-toggleable__content {max-height: 200px;max-width: 100%;overflow: auto;}#sk-container-id-6 input.sk-toggleable__control:checked~label.sk-toggleable__label-arrow:before {content: \"▾\";}#sk-container-id-6 div.sk-estimator input.sk-toggleable__control:checked~label.sk-toggleable__label {background-color: #d4ebff;}#sk-container-id-6 div.sk-label input.sk-toggleable__control:checked~label.sk-toggleable__label {background-color: #d4ebff;}#sk-container-id-6 input.sk-hidden--visually {border: 0;clip: rect(1px 1px 1px 1px);clip: rect(1px, 1px, 1px, 1px);height: 1px;margin: -1px;overflow: hidden;padding: 0;position: absolute;width: 1px;}#sk-container-id-6 div.sk-estimator {font-family: monospace;background-color: #f0f8ff;border: 1px dotted black;border-radius: 0.25em;box-sizing: border-box;margin-bottom: 0.5em;}#sk-container-id-6 div.sk-estimator:hover {background-color: #d4ebff;}#sk-container-id-6 div.sk-parallel-item::after {content: \"\";width: 100%;border-bottom: 1px solid gray;flex-grow: 1;}#sk-container-id-6 div.sk-label:hover label.sk-toggleable__label {background-color: #d4ebff;}#sk-container-id-6 div.sk-serial::before {content: \"\";position: absolute;border-left: 1px solid gray;box-sizing: border-box;top: 0;bottom: 0;left: 50%;z-index: 0;}#sk-container-id-6 div.sk-serial {display: flex;flex-direction: column;align-items: center;background-color: white;padding-right: 0.2em;padding-left: 0.2em;position: relative;}#sk-container-id-6 div.sk-item {position: relative;z-index: 1;}#sk-container-id-6 div.sk-parallel {display: flex;align-items: stretch;justify-content: center;background-color: white;position: relative;}#sk-container-id-6 div.sk-item::before, #sk-container-id-6 div.sk-parallel-item::before {content: \"\";position: absolute;border-left: 1px solid gray;box-sizing: border-box;top: 0;bottom: 0;left: 50%;z-index: -1;}#sk-container-id-6 div.sk-parallel-item {display: flex;flex-direction: column;z-index: 1;position: relative;background-color: white;}#sk-container-id-6 div.sk-parallel-item:first-child::after {align-self: flex-end;width: 50%;}#sk-container-id-6 div.sk-parallel-item:last-child::after {align-self: flex-start;width: 50%;}#sk-container-id-6 div.sk-parallel-item:only-child::after {width: 0;}#sk-container-id-6 div.sk-dashed-wrapped {border: 1px dashed gray;margin: 0 0.4em 0.5em 0.4em;box-sizing: border-box;padding-bottom: 0.4em;background-color: white;}#sk-container-id-6 div.sk-label label {font-family: monospace;font-weight: bold;display: inline-block;line-height: 1.2em;}#sk-container-id-6 div.sk-label-container {text-align: center;}#sk-container-id-6 div.sk-container {/* jupyter's `normalize.less` sets `[hidden] { display: none; }` but bootstrap.min.css set `[hidden] { display: none !important; }` so we also need the `!important` here to be able to override the default hidden behavior on the sphinx rendered scikit-learn.org. See: https://github.com/scikit-learn/scikit-learn/issues/21755 */display: inline-block !important;position: relative;}#sk-container-id-6 div.sk-text-repr-fallback {display: none;}</style><div id=\"sk-container-id-6\" class=\"sk-top-container\"><div class=\"sk-text-repr-fallback\"><pre>DecisionTreeClassifier(random_state=42)</pre><b>In a Jupyter environment, please rerun this cell to show the HTML representation or trust the notebook. <br />On GitHub, the HTML representation is unable to render, please try loading this page with nbviewer.org.</b></div><div class=\"sk-container\" hidden><div class=\"sk-item\"><div class=\"sk-estimator sk-toggleable\"><input class=\"sk-toggleable__control sk-hidden--visually\" id=\"sk-estimator-id-6\" type=\"checkbox\" checked><label for=\"sk-estimator-id-6\" class=\"sk-toggleable__label sk-toggleable__label-arrow\">DecisionTreeClassifier</label><div class=\"sk-toggleable__content\"><pre>DecisionTreeClassifier(random_state=42)</pre></div></div></div></div></div>"
      ],
      "text/plain": [
       "DecisionTreeClassifier(random_state=42)"
      ]
     },
     "execution_count": 108,
     "metadata": {},
     "output_type": "execute_result"
    }
   ],
   "source": [
    "from sklearn.tree import DecisionTreeClassifier\n",
    "\n",
    "# Create Decision Tree classifer object\n",
    "dtc = DecisionTreeClassifier(random_state=42)\n",
    "\n",
    "# Train Decision Tree Classifer\n",
    "dtc.fit(x_train,y_train)"
   ]
  },
  {
   "cell_type": "code",
   "execution_count": 109,
   "id": "26f9fe23",
   "metadata": {},
   "outputs": [
    {
     "name": "stdout",
     "output_type": "stream",
     "text": [
      "accuracy score: 0.9779602788492389\n",
      "classifcation report : \n",
      "                precision    recall  f1-score   support\n",
      "\n",
      "           0       0.99      0.99      0.99   5853706\n",
      "           1       0.53      0.56      0.54    139927\n",
      "\n",
      "    accuracy                           0.98   5993633\n",
      "   macro avg       0.76      0.77      0.77   5993633\n",
      "weighted avg       0.98      0.98      0.98   5993633\n",
      "\n"
     ]
    }
   ],
   "source": [
    "# Predict the response for test dataset\n",
    "y_pred_dtc = dtc.predict(x_test)\n",
    "\n",
    "# View accuracy score, mean absolute error and classification report\n",
    "accuracy_dtc = accuracy_score(y_test, y_pred_dtc)\n",
    "classification_report_dtc = classification_report(y_test,y_pred_dtc)\n",
    "\n",
    "print(f'accuracy score: {accuracy_dtc}')\n",
    "print(f'classifcation report : \\n  {classification_report_dtc}')"
   ]
  },
  {
   "cell_type": "code",
   "execution_count": 110,
   "id": "8a2aa172",
   "metadata": {},
   "outputs": [
    {
     "data": {
      "text/plain": [
       "array([[5783188,   70518],\n",
       "       [  61580,   78347]])"
      ]
     },
     "execution_count": 110,
     "metadata": {},
     "output_type": "execute_result"
    }
   ],
   "source": [
    "# View confusion matrix for test data and predictions\n",
    "dtc_cm  = confusion_matrix(y_test,y_pred_dtc)\n",
    "dtc_cm"
   ]
  },
  {
   "cell_type": "code",
   "execution_count": 111,
   "id": "a9a6603e",
   "metadata": {},
   "outputs": [
    {
     "data": {
      "image/png": "[encoded data removed]",
      "text/plain": [
       "<Figure size 640x480 with 2 Axes>"
      ]
     },
     "metadata": {},
     "output_type": "display_data"
    }
   ],
   "source": [
    "display_dtc = ConfusionMatrixDisplay(confusion_matrix=rfc_cm, display_labels=rfc.classes_)\n",
    "display_dtc.plot();"
   ]
  },
  {
   "cell_type": "code",
   "execution_count": 112,
   "id": "8eb0eb14",
   "metadata": {
    "scrolled": false
   },
   "outputs": [
    {
     "data": {
      "image/png": "[encoded data removed]",
      "text/plain": [
       "<Figure size 640x480 with 1 Axes>"
      ]
     },
     "metadata": {},
     "output_type": "display_data"
    }
   ],
   "source": [
    "# Assuming y_pred_clr1 and y_pred_clr2 are predictions from two different models\n",
    "fpr_log, tpr_log, _ = roc_curve(y_test, y_pred)\n",
    "roc_auc_log = roc_auc_score(y_test, y_pred)\n",
    "\n",
    "fpr_rfc, tpr_rfc, _ = roc_curve(y_test, y_pred_rfc)\n",
    "roc_auc_rfc = roc_auc_score(y_test, y_pred_rfc)\n",
    "\n",
    "fpr_dtc, tpr_dtc, _ = roc_curve(y_test, y_pred_dtc)\n",
    "roc_auc_dtc = roc_auc_score(y_test, y_pred_dtc)\n",
    "\n",
    "plt.plot(fpr_log, tpr_log, label='Logistical Regression (AUC = {:.2f})'.format(roc_auc_log))\n",
    "plt.plot(fpr_rfc, tpr_rfc, label='Random Forest Classification (AUC = {:.2f})'.format(roc_auc_rfc))\n",
    "plt.plot(fpr_dtc, tpr_dtc, label='Decision Tree Classification (AUC = {:.2f})'.format(roc_auc_dtc))\n",
    "\n",
    "plt.xlabel('False Positive Rate')\n",
    "plt.ylabel('True Positive Rate')\n",
    "plt.legend()\n",
    "plt.show()"
   ]
  },
  {
   "cell_type": "markdown",
   "id": "75892ce7",
   "metadata": {},
   "source": []
  },
  {
   "cell_type": "code",
   "execution_count": null,
   "id": "e257f5c6",
   "metadata": {},
   "outputs": [],
   "source": [
    "accuracy_score_df = pd({})"
   ]
  },
  {
   "cell_type": "code",
   "execution_count": 113,
   "id": "252214e7",
   "metadata": {},
   "outputs": [
    {
     "data": {
      "text/html": [
       "<div>\n",
       "<style scoped>\n",
       "    .dataframe tbody tr th:only-of-type {\n",
       "        vertical-align: middle;\n",
       "    }\n",
       "\n",
       "    .dataframe tbody tr th {\n",
       "        vertical-align: top;\n",
       "    }\n",
       "\n",
       "    .dataframe thead th {\n",
       "        text-align: right;\n",
       "    }\n",
       "</style>\n",
       "<table border=\"1\" class=\"dataframe\">\n",
       "  <thead>\n",
       "    <tr style=\"text-align: right;\">\n",
       "      <th></th>\n",
       "      <th>NBR.x</th>\n",
       "      <th>NBR.y</th>\n",
       "      <th>NDMI</th>\n",
       "      <th>NDVI</th>\n",
       "      <th>SR_B3</th>\n",
       "      <th>SR_B4</th>\n",
       "      <th>SR_B5</th>\n",
       "      <th>SR_B6</th>\n",
       "      <th>SR_B7</th>\n",
       "      <th>Fire_Observed</th>\n",
       "    </tr>\n",
       "  </thead>\n",
       "  <tbody>\n",
       "    <tr>\n",
       "      <th>0</th>\n",
       "      <td>-2.058419</td>\n",
       "      <td>-1.708234</td>\n",
       "      <td>-1.654409</td>\n",
       "      <td>1.231691</td>\n",
       "      <td>-1.790410</td>\n",
       "      <td>-1.793269</td>\n",
       "      <td>-2.228265</td>\n",
       "      <td>-1.791576</td>\n",
       "      <td>-1.985193</td>\n",
       "      <td>1</td>\n",
       "    </tr>\n",
       "    <tr>\n",
       "      <th>1</th>\n",
       "      <td>-1.985984</td>\n",
       "      <td>-1.677976</td>\n",
       "      <td>-1.577071</td>\n",
       "      <td>1.235545</td>\n",
       "      <td>-1.765449</td>\n",
       "      <td>-1.779699</td>\n",
       "      <td>-2.187105</td>\n",
       "      <td>-1.761864</td>\n",
       "      <td>-1.967977</td>\n",
       "      <td>1</td>\n",
       "    </tr>\n",
       "    <tr>\n",
       "      <th>2</th>\n",
       "      <td>-1.960218</td>\n",
       "      <td>-1.605716</td>\n",
       "      <td>-1.517590</td>\n",
       "      <td>0.718238</td>\n",
       "      <td>-1.747482</td>\n",
       "      <td>-1.763447</td>\n",
       "      <td>-2.187490</td>\n",
       "      <td>-1.803031</td>\n",
       "      <td>-1.992867</td>\n",
       "      <td>1</td>\n",
       "    </tr>\n",
       "    <tr>\n",
       "      <th>3</th>\n",
       "      <td>-1.960218</td>\n",
       "      <td>-1.605716</td>\n",
       "      <td>-1.517590</td>\n",
       "      <td>0.718238</td>\n",
       "      <td>-1.747482</td>\n",
       "      <td>-1.763447</td>\n",
       "      <td>-2.187490</td>\n",
       "      <td>-1.803031</td>\n",
       "      <td>-1.992867</td>\n",
       "      <td>1</td>\n",
       "    </tr>\n",
       "    <tr>\n",
       "      <th>4</th>\n",
       "      <td>-2.068928</td>\n",
       "      <td>-1.646716</td>\n",
       "      <td>-1.633586</td>\n",
       "      <td>0.484027</td>\n",
       "      <td>-1.726071</td>\n",
       "      <td>-1.741307</td>\n",
       "      <td>-2.178132</td>\n",
       "      <td>-1.695301</td>\n",
       "      <td>-1.871533</td>\n",
       "      <td>1</td>\n",
       "    </tr>\n",
       "    <tr>\n",
       "      <th>...</th>\n",
       "      <td>...</td>\n",
       "      <td>...</td>\n",
       "      <td>...</td>\n",
       "      <td>...</td>\n",
       "      <td>...</td>\n",
       "      <td>...</td>\n",
       "      <td>...</td>\n",
       "      <td>...</td>\n",
       "      <td>...</td>\n",
       "      <td>...</td>\n",
       "    </tr>\n",
       "    <tr>\n",
       "      <th>19978771</th>\n",
       "      <td>0.221804</td>\n",
       "      <td>-0.029562</td>\n",
       "      <td>0.180997</td>\n",
       "      <td>-0.914886</td>\n",
       "      <td>-0.355639</td>\n",
       "      <td>-0.292179</td>\n",
       "      <td>-0.319633</td>\n",
       "      <td>-0.565423</td>\n",
       "      <td>-0.711836</td>\n",
       "      <td>0</td>\n",
       "    </tr>\n",
       "    <tr>\n",
       "      <th>19978772</th>\n",
       "      <td>0.290756</td>\n",
       "      <td>0.744471</td>\n",
       "      <td>-0.036936</td>\n",
       "      <td>-1.318336</td>\n",
       "      <td>0.575380</td>\n",
       "      <td>0.700865</td>\n",
       "      <td>0.363026</td>\n",
       "      <td>0.192503</td>\n",
       "      <td>0.368981</td>\n",
       "      <td>0</td>\n",
       "    </tr>\n",
       "    <tr>\n",
       "      <th>19978773</th>\n",
       "      <td>0.290756</td>\n",
       "      <td>0.744471</td>\n",
       "      <td>-0.036936</td>\n",
       "      <td>-1.318336</td>\n",
       "      <td>0.575380</td>\n",
       "      <td>0.700865</td>\n",
       "      <td>0.363026</td>\n",
       "      <td>0.192503</td>\n",
       "      <td>0.368981</td>\n",
       "      <td>0</td>\n",
       "    </tr>\n",
       "    <tr>\n",
       "      <th>19978774</th>\n",
       "      <td>0.747025</td>\n",
       "      <td>1.172730</td>\n",
       "      <td>0.170138</td>\n",
       "      <td>-1.230701</td>\n",
       "      <td>1.092694</td>\n",
       "      <td>1.239843</td>\n",
       "      <td>0.943580</td>\n",
       "      <td>0.492583</td>\n",
       "      <td>0.778875</td>\n",
       "      <td>0</td>\n",
       "    </tr>\n",
       "    <tr>\n",
       "      <th>19978775</th>\n",
       "      <td>0.868746</td>\n",
       "      <td>1.247717</td>\n",
       "      <td>0.248319</td>\n",
       "      <td>-1.111821</td>\n",
       "      <td>1.201160</td>\n",
       "      <td>1.350462</td>\n",
       "      <td>1.073392</td>\n",
       "      <td>0.569248</td>\n",
       "      <td>0.837524</td>\n",
       "      <td>0</td>\n",
       "    </tr>\n",
       "  </tbody>\n",
       "</table>\n",
       "<p>19978776 rows × 10 columns</p>\n",
       "</div>"
      ],
      "text/plain": [
       "             NBR.x     NBR.y      NDMI      NDVI     SR_B3     SR_B4  \\\n",
       "0        -2.058419 -1.708234 -1.654409  1.231691 -1.790410 -1.793269   \n",
       "1        -1.985984 -1.677976 -1.577071  1.235545 -1.765449 -1.779699   \n",
       "2        -1.960218 -1.605716 -1.517590  0.718238 -1.747482 -1.763447   \n",
       "3        -1.960218 -1.605716 -1.517590  0.718238 -1.747482 -1.763447   \n",
       "4        -2.068928 -1.646716 -1.633586  0.484027 -1.726071 -1.741307   \n",
       "...            ...       ...       ...       ...       ...       ...   \n",
       "19978771  0.221804 -0.029562  0.180997 -0.914886 -0.355639 -0.292179   \n",
       "19978772  0.290756  0.744471 -0.036936 -1.318336  0.575380  0.700865   \n",
       "19978773  0.290756  0.744471 -0.036936 -1.318336  0.575380  0.700865   \n",
       "19978774  0.747025  1.172730  0.170138 -1.230701  1.092694  1.239843   \n",
       "19978775  0.868746  1.247717  0.248319 -1.111821  1.201160  1.350462   \n",
       "\n",
       "             SR_B5     SR_B6     SR_B7  Fire_Observed  \n",
       "0        -2.228265 -1.791576 -1.985193              1  \n",
       "1        -2.187105 -1.761864 -1.967977              1  \n",
       "2        -2.187490 -1.803031 -1.992867              1  \n",
       "3        -2.187490 -1.803031 -1.992867              1  \n",
       "4        -2.178132 -1.695301 -1.871533              1  \n",
       "...            ...       ...       ...            ...  \n",
       "19978771 -0.319633 -0.565423 -0.711836              0  \n",
       "19978772  0.363026  0.192503  0.368981              0  \n",
       "19978773  0.363026  0.192503  0.368981              0  \n",
       "19978774  0.943580  0.492583  0.778875              0  \n",
       "19978775  1.073392  0.569248  0.837524              0  \n",
       "\n",
       "[19978776 rows x 10 columns]"
      ]
     },
     "execution_count": 113,
     "metadata": {},
     "output_type": "execute_result"
    }
   ],
   "source": [
    "merged_fire_df"
   ]
  },
  {
   "cell_type": "markdown",
   "id": "85634285",
   "metadata": {},
   "source": [
    "## <font color=\"#115089\">  Model Building For Regression Analysis</font>"
   ]
  },
  {
   "cell_type": "markdown",
   "id": "2e71ab9b",
   "metadata": {},
   "source": [
    "__Random Forest Regressor__"
   ]
  },
  {
   "cell_type": "code",
   "execution_count": 59,
   "id": "818a0604",
   "metadata": {
    "scrolled": true
   },
   "outputs": [
    {
     "data": {
      "text/html": [
       "<style>#sk-container-id-2 {color: black;background-color: white;}#sk-container-id-2 pre{padding: 0;}#sk-container-id-2 div.sk-toggleable {background-color: white;}#sk-container-id-2 label.sk-toggleable__label {cursor: pointer;display: block;width: 100%;margin-bottom: 0;padding: 0.3em;box-sizing: border-box;text-align: center;}#sk-container-id-2 label.sk-toggleable__label-arrow:before {content: \"▸\";float: left;margin-right: 0.25em;color: #696969;}#sk-container-id-2 label.sk-toggleable__label-arrow:hover:before {color: black;}#sk-container-id-2 div.sk-estimator:hover label.sk-toggleable__label-arrow:before {color: black;}#sk-container-id-2 div.sk-toggleable__content {max-height: 0;max-width: 0;overflow: hidden;text-align: left;background-color: #f0f8ff;}#sk-container-id-2 div.sk-toggleable__content pre {margin: 0.2em;color: black;border-radius: 0.25em;background-color: #f0f8ff;}#sk-container-id-2 input.sk-toggleable__control:checked~div.sk-toggleable__content {max-height: 200px;max-width: 100%;overflow: auto;}#sk-container-id-2 input.sk-toggleable__control:checked~label.sk-toggleable__label-arrow:before {content: \"▾\";}#sk-container-id-2 div.sk-estimator input.sk-toggleable__control:checked~label.sk-toggleable__label {background-color: #d4ebff;}#sk-container-id-2 div.sk-label input.sk-toggleable__control:checked~label.sk-toggleable__label {background-color: #d4ebff;}#sk-container-id-2 input.sk-hidden--visually {border: 0;clip: rect(1px 1px 1px 1px);clip: rect(1px, 1px, 1px, 1px);height: 1px;margin: -1px;overflow: hidden;padding: 0;position: absolute;width: 1px;}#sk-container-id-2 div.sk-estimator {font-family: monospace;background-color: #f0f8ff;border: 1px dotted black;border-radius: 0.25em;box-sizing: border-box;margin-bottom: 0.5em;}#sk-container-id-2 div.sk-estimator:hover {background-color: #d4ebff;}#sk-container-id-2 div.sk-parallel-item::after {content: \"\";width: 100%;border-bottom: 1px solid gray;flex-grow: 1;}#sk-container-id-2 div.sk-label:hover label.sk-toggleable__label {background-color: #d4ebff;}#sk-container-id-2 div.sk-serial::before {content: \"\";position: absolute;border-left: 1px solid gray;box-sizing: border-box;top: 0;bottom: 0;left: 50%;z-index: 0;}#sk-container-id-2 div.sk-serial {display: flex;flex-direction: column;align-items: center;background-color: white;padding-right: 0.2em;padding-left: 0.2em;position: relative;}#sk-container-id-2 div.sk-item {position: relative;z-index: 1;}#sk-container-id-2 div.sk-parallel {display: flex;align-items: stretch;justify-content: center;background-color: white;position: relative;}#sk-container-id-2 div.sk-item::before, #sk-container-id-2 div.sk-parallel-item::before {content: \"\";position: absolute;border-left: 1px solid gray;box-sizing: border-box;top: 0;bottom: 0;left: 50%;z-index: -1;}#sk-container-id-2 div.sk-parallel-item {display: flex;flex-direction: column;z-index: 1;position: relative;background-color: white;}#sk-container-id-2 div.sk-parallel-item:first-child::after {align-self: flex-end;width: 50%;}#sk-container-id-2 div.sk-parallel-item:last-child::after {align-self: flex-start;width: 50%;}#sk-container-id-2 div.sk-parallel-item:only-child::after {width: 0;}#sk-container-id-2 div.sk-dashed-wrapped {border: 1px dashed gray;margin: 0 0.4em 0.5em 0.4em;box-sizing: border-box;padding-bottom: 0.4em;background-color: white;}#sk-container-id-2 div.sk-label label {font-family: monospace;font-weight: bold;display: inline-block;line-height: 1.2em;}#sk-container-id-2 div.sk-label-container {text-align: center;}#sk-container-id-2 div.sk-container {/* jupyter's `normalize.less` sets `[hidden] { display: none; }` but bootstrap.min.css set `[hidden] { display: none !important; }` so we also need the `!important` here to be able to override the default hidden behavior on the sphinx rendered scikit-learn.org. See: https://github.com/scikit-learn/scikit-learn/issues/21755 */display: inline-block !important;position: relative;}#sk-container-id-2 div.sk-text-repr-fallback {display: none;}</style><div id=\"sk-container-id-2\" class=\"sk-top-container\"><div class=\"sk-text-repr-fallback\"><pre>RandomForestRegressor(oob_score=True, random_state=42)</pre><b>In a Jupyter environment, please rerun this cell to show the HTML representation or trust the notebook. <br />On GitHub, the HTML representation is unable to render, please try loading this page with nbviewer.org.</b></div><div class=\"sk-container\" hidden><div class=\"sk-item\"><div class=\"sk-estimator sk-toggleable\"><input class=\"sk-toggleable__control sk-hidden--visually\" id=\"sk-estimator-id-2\" type=\"checkbox\" checked><label for=\"sk-estimator-id-2\" class=\"sk-toggleable__label sk-toggleable__label-arrow\">RandomForestRegressor</label><div class=\"sk-toggleable__content\"><pre>RandomForestRegressor(oob_score=True, random_state=42)</pre></div></div></div></div></div>"
      ],
      "text/plain": [
       "RandomForestRegressor(oob_score=True, random_state=42)"
      ]
     },
     "execution_count": 59,
     "metadata": {},
     "output_type": "execute_result"
    }
   ],
   "source": [
    "from sklearn.ensemble import RandomForestRegressor\n",
    "\n",
    "classifier_rfr = RandomForestRegressor(random_state=42,n_estimators=100, oob_score=True)\n",
    "classifier_rfr.fit(x_train, y_train)"
   ]
  },
  {
   "cell_type": "code",
   "execution_count": 114,
   "id": "6d66328a",
   "metadata": {},
   "outputs": [
    {
     "name": "stdout",
     "output_type": "stream",
     "text": [
      "mean absolute error: 0.028548101630788022\n",
      "mean sqaured error: 0.011616856318344413\n",
      "root mean sqaured error: 0.10778152122856874\n",
      "R2 score: 0.4905090405813459\n"
     ]
    }
   ],
   "source": [
    "from sklearn.metrics import mean_squared_error, mean_absolute_percentage_error, r2_score\n",
    "\n",
    "#Predict the response for test dataset\n",
    "y_pred_rf = classifier_rfr.predict(x_test)\n",
    "\n",
    "# View mean absolute error, mean squared error, median absolute error and r2 score\n",
    "mae_rf = mean_absolute_error(y_test,y_pred_rf)\n",
    "mse_rf = mean_squared_error(y_test, y_pred_rf)\n",
    "rmse_rf = mse_rf ** (0.5)\n",
    "r2_rf = r2_score(y_test, y_pred_rf)\n",
    "\n",
    "print(f'mean absolute error: {mae_rf}')\n",
    "print(f'mean sqaured error: {mse_rf}')\n",
    "print(f'root mean sqaured error: {rmse_rf}')\n",
    "print(f'R2 score: {r2_rf}')"
   ]
  },
  {
   "cell_type": "markdown",
   "id": "4f5b2383",
   "metadata": {},
   "source": [
    "__Descision Tree Regressor__"
   ]
  },
  {
   "cell_type": "code",
   "execution_count": 62,
   "id": "eb254dc9",
   "metadata": {
    "scrolled": true
   },
   "outputs": [
    {
     "data": {
      "text/html": [
       "<style>#sk-container-id-3 {color: black;background-color: white;}#sk-container-id-3 pre{padding: 0;}#sk-container-id-3 div.sk-toggleable {background-color: white;}#sk-container-id-3 label.sk-toggleable__label {cursor: pointer;display: block;width: 100%;margin-bottom: 0;padding: 0.3em;box-sizing: border-box;text-align: center;}#sk-container-id-3 label.sk-toggleable__label-arrow:before {content: \"▸\";float: left;margin-right: 0.25em;color: #696969;}#sk-container-id-3 label.sk-toggleable__label-arrow:hover:before {color: black;}#sk-container-id-3 div.sk-estimator:hover label.sk-toggleable__label-arrow:before {color: black;}#sk-container-id-3 div.sk-toggleable__content {max-height: 0;max-width: 0;overflow: hidden;text-align: left;background-color: #f0f8ff;}#sk-container-id-3 div.sk-toggleable__content pre {margin: 0.2em;color: black;border-radius: 0.25em;background-color: #f0f8ff;}#sk-container-id-3 input.sk-toggleable__control:checked~div.sk-toggleable__content {max-height: 200px;max-width: 100%;overflow: auto;}#sk-container-id-3 input.sk-toggleable__control:checked~label.sk-toggleable__label-arrow:before {content: \"▾\";}#sk-container-id-3 div.sk-estimator input.sk-toggleable__control:checked~label.sk-toggleable__label {background-color: #d4ebff;}#sk-container-id-3 div.sk-label input.sk-toggleable__control:checked~label.sk-toggleable__label {background-color: #d4ebff;}#sk-container-id-3 input.sk-hidden--visually {border: 0;clip: rect(1px 1px 1px 1px);clip: rect(1px, 1px, 1px, 1px);height: 1px;margin: -1px;overflow: hidden;padding: 0;position: absolute;width: 1px;}#sk-container-id-3 div.sk-estimator {font-family: monospace;background-color: #f0f8ff;border: 1px dotted black;border-radius: 0.25em;box-sizing: border-box;margin-bottom: 0.5em;}#sk-container-id-3 div.sk-estimator:hover {background-color: #d4ebff;}#sk-container-id-3 div.sk-parallel-item::after {content: \"\";width: 100%;border-bottom: 1px solid gray;flex-grow: 1;}#sk-container-id-3 div.sk-label:hover label.sk-toggleable__label {background-color: #d4ebff;}#sk-container-id-3 div.sk-serial::before {content: \"\";position: absolute;border-left: 1px solid gray;box-sizing: border-box;top: 0;bottom: 0;left: 50%;z-index: 0;}#sk-container-id-3 div.sk-serial {display: flex;flex-direction: column;align-items: center;background-color: white;padding-right: 0.2em;padding-left: 0.2em;position: relative;}#sk-container-id-3 div.sk-item {position: relative;z-index: 1;}#sk-container-id-3 div.sk-parallel {display: flex;align-items: stretch;justify-content: center;background-color: white;position: relative;}#sk-container-id-3 div.sk-item::before, #sk-container-id-3 div.sk-parallel-item::before {content: \"\";position: absolute;border-left: 1px solid gray;box-sizing: border-box;top: 0;bottom: 0;left: 50%;z-index: -1;}#sk-container-id-3 div.sk-parallel-item {display: flex;flex-direction: column;z-index: 1;position: relative;background-color: white;}#sk-container-id-3 div.sk-parallel-item:first-child::after {align-self: flex-end;width: 50%;}#sk-container-id-3 div.sk-parallel-item:last-child::after {align-self: flex-start;width: 50%;}#sk-container-id-3 div.sk-parallel-item:only-child::after {width: 0;}#sk-container-id-3 div.sk-dashed-wrapped {border: 1px dashed gray;margin: 0 0.4em 0.5em 0.4em;box-sizing: border-box;padding-bottom: 0.4em;background-color: white;}#sk-container-id-3 div.sk-label label {font-family: monospace;font-weight: bold;display: inline-block;line-height: 1.2em;}#sk-container-id-3 div.sk-label-container {text-align: center;}#sk-container-id-3 div.sk-container {/* jupyter's `normalize.less` sets `[hidden] { display: none; }` but bootstrap.min.css set `[hidden] { display: none !important; }` so we also need the `!important` here to be able to override the default hidden behavior on the sphinx rendered scikit-learn.org. See: https://github.com/scikit-learn/scikit-learn/issues/21755 */display: inline-block !important;position: relative;}#sk-container-id-3 div.sk-text-repr-fallback {display: none;}</style><div id=\"sk-container-id-3\" class=\"sk-top-container\"><div class=\"sk-text-repr-fallback\"><pre>DecisionTreeRegressor(random_state=42)</pre><b>In a Jupyter environment, please rerun this cell to show the HTML representation or trust the notebook. <br />On GitHub, the HTML representation is unable to render, please try loading this page with nbviewer.org.</b></div><div class=\"sk-container\" hidden><div class=\"sk-item\"><div class=\"sk-estimator sk-toggleable\"><input class=\"sk-toggleable__control sk-hidden--visually\" id=\"sk-estimator-id-3\" type=\"checkbox\" checked><label for=\"sk-estimator-id-3\" class=\"sk-toggleable__label sk-toggleable__label-arrow\">DecisionTreeRegressor</label><div class=\"sk-toggleable__content\"><pre>DecisionTreeRegressor(random_state=42)</pre></div></div></div></div></div>"
      ],
      "text/plain": [
       "DecisionTreeRegressor(random_state=42)"
      ]
     },
     "execution_count": 62,
     "metadata": {},
     "output_type": "execute_result"
    }
   ],
   "source": [
    "from sklearn.tree import DecisionTreeRegressor\n",
    "\n",
    "# Create Decision Tree classifer object\n",
    "clr = DecisionTreeRegressor(random_state=42)\n",
    "\n",
    "# Train Decision Tree Classifer\n",
    "clr.fit(x_train,y_train)"
   ]
  },
  {
   "cell_type": "code",
   "execution_count": 116,
   "id": "0e4ccb71",
   "metadata": {
    "scrolled": true
   },
   "outputs": [
    {
     "name": "stdout",
     "output_type": "stream",
     "text": [
      "mean absolute error: 0.022073840690612856\n",
      "mean sqaured error: 0.022063871778602393\n",
      "root mean sqaured error: 0.14853912541348288\n",
      "R2 score: 0.03232484822775461\n"
     ]
    }
   ],
   "source": [
    "#Predict the response for test dataset\n",
    "y_pred_dtr = clr.predict(x_test)\n",
    "\n",
    "# View mean absolute error, mean squared error, median absolute error and r2 score\n",
    "mae_dtr = mean_absolute_error(y_test,y_pred_dtr)\n",
    "mse_dtr = mean_squared_error(y_test, y_pred_dtr)\n",
    "rmse_dtr = mse_dtr ** (0.5)\n",
    "r2_dtr = r2_score(y_test, y_pred_dtr)\n",
    "\n",
    "print(f'mean absolute error: {mae_dtr}')\n",
    "print(f'mean sqaured error: {mse_dtr}')\n",
    "print(f'root mean sqaured error: {rmse_dtr}')\n",
    "print(f'R2 score: {r2_dtr}')"
   ]
  },
  {
   "cell_type": "markdown",
   "id": "f5c7c083",
   "metadata": {},
   "source": [
    "__Gradient Boost Regressor__"
   ]
  },
  {
   "cell_type": "code",
   "execution_count": 66,
   "id": "f198e9af",
   "metadata": {},
   "outputs": [
    {
     "data": {
      "text/html": [
       "<style>#sk-container-id-4 {color: black;background-color: white;}#sk-container-id-4 pre{padding: 0;}#sk-container-id-4 div.sk-toggleable {background-color: white;}#sk-container-id-4 label.sk-toggleable__label {cursor: pointer;display: block;width: 100%;margin-bottom: 0;padding: 0.3em;box-sizing: border-box;text-align: center;}#sk-container-id-4 label.sk-toggleable__label-arrow:before {content: \"▸\";float: left;margin-right: 0.25em;color: #696969;}#sk-container-id-4 label.sk-toggleable__label-arrow:hover:before {color: black;}#sk-container-id-4 div.sk-estimator:hover label.sk-toggleable__label-arrow:before {color: black;}#sk-container-id-4 div.sk-toggleable__content {max-height: 0;max-width: 0;overflow: hidden;text-align: left;background-color: #f0f8ff;}#sk-container-id-4 div.sk-toggleable__content pre {margin: 0.2em;color: black;border-radius: 0.25em;background-color: #f0f8ff;}#sk-container-id-4 input.sk-toggleable__control:checked~div.sk-toggleable__content {max-height: 200px;max-width: 100%;overflow: auto;}#sk-container-id-4 input.sk-toggleable__control:checked~label.sk-toggleable__label-arrow:before {content: \"▾\";}#sk-container-id-4 div.sk-estimator input.sk-toggleable__control:checked~label.sk-toggleable__label {background-color: #d4ebff;}#sk-container-id-4 div.sk-label input.sk-toggleable__control:checked~label.sk-toggleable__label {background-color: #d4ebff;}#sk-container-id-4 input.sk-hidden--visually {border: 0;clip: rect(1px 1px 1px 1px);clip: rect(1px, 1px, 1px, 1px);height: 1px;margin: -1px;overflow: hidden;padding: 0;position: absolute;width: 1px;}#sk-container-id-4 div.sk-estimator {font-family: monospace;background-color: #f0f8ff;border: 1px dotted black;border-radius: 0.25em;box-sizing: border-box;margin-bottom: 0.5em;}#sk-container-id-4 div.sk-estimator:hover {background-color: #d4ebff;}#sk-container-id-4 div.sk-parallel-item::after {content: \"\";width: 100%;border-bottom: 1px solid gray;flex-grow: 1;}#sk-container-id-4 div.sk-label:hover label.sk-toggleable__label {background-color: #d4ebff;}#sk-container-id-4 div.sk-serial::before {content: \"\";position: absolute;border-left: 1px solid gray;box-sizing: border-box;top: 0;bottom: 0;left: 50%;z-index: 0;}#sk-container-id-4 div.sk-serial {display: flex;flex-direction: column;align-items: center;background-color: white;padding-right: 0.2em;padding-left: 0.2em;position: relative;}#sk-container-id-4 div.sk-item {position: relative;z-index: 1;}#sk-container-id-4 div.sk-parallel {display: flex;align-items: stretch;justify-content: center;background-color: white;position: relative;}#sk-container-id-4 div.sk-item::before, #sk-container-id-4 div.sk-parallel-item::before {content: \"\";position: absolute;border-left: 1px solid gray;box-sizing: border-box;top: 0;bottom: 0;left: 50%;z-index: -1;}#sk-container-id-4 div.sk-parallel-item {display: flex;flex-direction: column;z-index: 1;position: relative;background-color: white;}#sk-container-id-4 div.sk-parallel-item:first-child::after {align-self: flex-end;width: 50%;}#sk-container-id-4 div.sk-parallel-item:last-child::after {align-self: flex-start;width: 50%;}#sk-container-id-4 div.sk-parallel-item:only-child::after {width: 0;}#sk-container-id-4 div.sk-dashed-wrapped {border: 1px dashed gray;margin: 0 0.4em 0.5em 0.4em;box-sizing: border-box;padding-bottom: 0.4em;background-color: white;}#sk-container-id-4 div.sk-label label {font-family: monospace;font-weight: bold;display: inline-block;line-height: 1.2em;}#sk-container-id-4 div.sk-label-container {text-align: center;}#sk-container-id-4 div.sk-container {/* jupyter's `normalize.less` sets `[hidden] { display: none; }` but bootstrap.min.css set `[hidden] { display: none !important; }` so we also need the `!important` here to be able to override the default hidden behavior on the sphinx rendered scikit-learn.org. See: https://github.com/scikit-learn/scikit-learn/issues/21755 */display: inline-block !important;position: relative;}#sk-container-id-4 div.sk-text-repr-fallback {display: none;}</style><div id=\"sk-container-id-4\" class=\"sk-top-container\"><div class=\"sk-text-repr-fallback\"><pre>XGBRegressor(base_score=None, booster=None, callbacks=None,\n",
       "             colsample_bylevel=None, colsample_bynode=None,\n",
       "             colsample_bytree=None, device=None, early_stopping_rounds=None,\n",
       "             enable_categorical=False, eval_metric=None, feature_types=None,\n",
       "             gamma=None, grow_policy=None, importance_type=None,\n",
       "             interaction_constraints=None, learning_rate=None, max_bin=None,\n",
       "             max_cat_threshold=None, max_cat_to_onehot=None,\n",
       "             max_delta_step=None, max_depth=None, max_leaves=None,\n",
       "             min_child_weight=None, missing=nan, monotone_constraints=None,\n",
       "             multi_strategy=None, n_estimators=None, n_jobs=None,\n",
       "             num_parallel_tree=None, random_state=None, ...)</pre><b>In a Jupyter environment, please rerun this cell to show the HTML representation or trust the notebook. <br />On GitHub, the HTML representation is unable to render, please try loading this page with nbviewer.org.</b></div><div class=\"sk-container\" hidden><div class=\"sk-item\"><div class=\"sk-estimator sk-toggleable\"><input class=\"sk-toggleable__control sk-hidden--visually\" id=\"sk-estimator-id-4\" type=\"checkbox\" checked><label for=\"sk-estimator-id-4\" class=\"sk-toggleable__label sk-toggleable__label-arrow\">XGBRegressor</label><div class=\"sk-toggleable__content\"><pre>XGBRegressor(base_score=None, booster=None, callbacks=None,\n",
       "             colsample_bylevel=None, colsample_bynode=None,\n",
       "             colsample_bytree=None, device=None, early_stopping_rounds=None,\n",
       "             enable_categorical=False, eval_metric=None, feature_types=None,\n",
       "             gamma=None, grow_policy=None, importance_type=None,\n",
       "             interaction_constraints=None, learning_rate=None, max_bin=None,\n",
       "             max_cat_threshold=None, max_cat_to_onehot=None,\n",
       "             max_delta_step=None, max_depth=None, max_leaves=None,\n",
       "             min_child_weight=None, missing=nan, monotone_constraints=None,\n",
       "             multi_strategy=None, n_estimators=None, n_jobs=None,\n",
       "             num_parallel_tree=None, random_state=None, ...)</pre></div></div></div></div></div>"
      ],
      "text/plain": [
       "XGBRegressor(base_score=None, booster=None, callbacks=None,\n",
       "             colsample_bylevel=None, colsample_bynode=None,\n",
       "             colsample_bytree=None, device=None, early_stopping_rounds=None,\n",
       "             enable_categorical=False, eval_metric=None, feature_types=None,\n",
       "             gamma=None, grow_policy=None, importance_type=None,\n",
       "             interaction_constraints=None, learning_rate=None, max_bin=None,\n",
       "             max_cat_threshold=None, max_cat_to_onehot=None,\n",
       "             max_delta_step=None, max_depth=None, max_leaves=None,\n",
       "             min_child_weight=None, missing=nan, monotone_constraints=None,\n",
       "             multi_strategy=None, n_estimators=None, n_jobs=None,\n",
       "             num_parallel_tree=None, random_state=None, ...)"
      ]
     },
     "execution_count": 66,
     "metadata": {},
     "output_type": "execute_result"
    }
   ],
   "source": [
    "from xgboost import XGBRegressor\n",
    "\n",
    "# Create Gradient Boost Regressor object\n",
    "gbr = XGBRegressor(random_state=42)\n",
    "\n",
    "# Train Gradient Boost Regressor \n",
    "gbr.fit(x_train,y_train)"
   ]
  },
  {
   "cell_type": "code",
   "execution_count": 67,
   "id": "7e3e473a",
   "metadata": {
    "scrolled": false
   },
   "outputs": [
    {
     "name": "stdout",
     "output_type": "stream",
     "text": [
      "mean absolute error: 0.04219752845626964\n",
      "mean sqaured error: 0.019876187437357924\n",
      "root mean sqaured error: 0.14098293314212867\n",
      "median absolute error: 0.00972621887922287\n",
      "R2 score: 0.12827209620789148\n"
     ]
    }
   ],
   "source": [
    "#Predict the response for test dataset\n",
    "y_pred_gbr = gbr.predict(x_test)\n",
    "\n",
    "# View mean absolute error, mean squared error, median absolute error and r2 score\n",
    "mae_gbr = mean_absolute_error(y_test,y_pred_gbr)\n",
    "mse_gbr = mean_squared_error(y_test, y_pred_gbr)\n",
    "rmse_gbr = mse_gbr ** (0.5)\n",
    "median_ae_gbr = median_absolute_error(y_test, y_pred_gbr)\n",
    "r2_gbr = r2_score(y_test, y_pred_gbr)\n",
    "\n",
    "print(f'mean absolute error: {mae_gbr}')\n",
    "print(f'mean sqaured error: {mse_gbr}')\n",
    "print(f'root mean sqaured error: {rmse_gbr}')\n",
    "print(f'median absolute error: {median_ae_gbr}')\n",
    "print(f'R2 score: {r2_gbr}')"
   ]
  },
  {
   "cell_type": "code",
   "execution_count": 71,
   "id": "43abf257",
   "metadata": {},
   "outputs": [],
   "source": [
    "def mean_absolute_percentage_error(y_true, y_pred, epsilon=1e-10):\n",
    "    y_true = np.array(y_true)\n",
    "    y_pred = np.array(y_pred)\n",
    "    \n",
    "    return np.mean(np.abs((y_true - y_pred) / (y_true + epsilon))) * 100"
   ]
  },
  {
   "cell_type": "code",
   "execution_count": null,
   "id": "2487e712",
   "metadata": {},
   "outputs": [],
   "source": [
    "mean_absolute_percentage_error(y_test, y_pred_gbr, epsilon=1e-10)"
   ]
  },
  {
   "cell_type": "code",
   "execution_count": null,
   "id": "7b323a63",
   "metadata": {},
   "outputs": [],
   "source": []
  }
 ],
 "metadata": {
  "kernelspec": {
   "display_name": "Python 3 (ipykernel)",
   "language": "python",
   "name": "python3"
  },
  "language_info": {
   "codemirror_mode": {
    "name": "ipython",
    "version": 3
   },
   "file_extension": ".py",
   "mimetype": "text/x-python",
   "name": "python",
   "nbconvert_exporter": "python",
   "pygments_lexer": "ipython3",
   "version": "3.9.16"
  }
 },
 "nbformat": 4,
 "nbformat_minor": 5
}
